{
 "cells": [
  {
   "cell_type": "markdown",
   "id": "64314db4-b510-41cd-a40f-1b3e8604fdde",
   "metadata": {},
   "source": [
    "Q1. What is an API? Give an example, where an API is used in real life."
   ]
  },
  {
   "cell_type": "markdown",
   "id": "871c8b7a-f85a-42f8-9857-24893d2ffeef",
   "metadata": {},
   "source": [
    "ANS 1:\n",
    "API refers to the application program interface.It is used to communitcate between two system in which one makes request and another will give response.\n",
    "\n",
    "Example : google search is the best example of using API between its database and client side ,when we search it retrieves the data from database."
   ]
  },
  {
   "cell_type": "markdown",
   "id": "9f1c887d-1bf3-4f48-ba68-d5f2018b3914",
   "metadata": {},
   "source": [
    "Q2. Give advantages and disadvantages of using API."
   ]
  },
  {
   "cell_type": "markdown",
   "id": "01c5be93-ec60-4aa9-a8c0-255894d0cec4",
   "metadata": {},
   "source": [
    "ANS 2:\n",
    "Applications: Access to APIs ensures more flexibility in information-transfer processes.\n",
    "\n",
    "Reach: APIs let you create layers in apps in order to distribute information to different audiences.\n",
    "\n",
    "Customization: Furthermore, it can serve as a solution to create different experiences for users, letting protocols, functions, and commands be adapted according to specific demands.\n",
    "\n",
    "Efficiency: When you have content that is automatically published and made available on different channels simultaneously, APIs allow for more efficient data distribution.\n",
    "\n",
    "Adaptability: One of the greatest benefits of APIs is the ability it has to adapt to changes through data migration and flexibility of services.\n",
    "\n",
    "Disadvantages:\n",
    "\n",
    "As a single point of entry, an API is a gateway and can become a hacker's primary target. Once the API is compromised, all other applications and systems become vulnerable."
   ]
  },
  {
   "cell_type": "markdown",
   "id": "d0a9e4df-2bbd-4e5e-ac5d-c2dbbb1593f7",
   "metadata": {},
   "source": [
    "Q3. What is a Web API? Differentiate between API and Web API."
   ]
  },
  {
   "cell_type": "markdown",
   "id": "28efa3e6-37cd-4de8-9e68-ba2b3b977f36",
   "metadata": {},
   "source": [
    "ANS 3:\n",
    "Web API is the subset of API that use HTTP to communicate between systems that are in same tech or different tech.\n",
    "\n",
    "Difference between API and web API is that Web API is the subset of API, API is the generalised term for communication between two system,web API means Communication via HTTP protocls"
   ]
  },
  {
   "cell_type": "markdown",
   "id": "8930faaf-52ef-43e9-b43f-89c8e1dc0fa0",
   "metadata": {},
   "source": [
    "Q4. Explain REST and SOAP Architecture. Mention shortcomings of SOAP."
   ]
  },
  {
   "cell_type": "markdown",
   "id": "d285d656-b109-4bf7-af77-ef7fd84f5525",
   "metadata": {},
   "source": [
    "ANS 4:\n",
    "REST :\n",
    "\n",
    "1: use for web apis\n",
    "\n",
    "2: functions like put get push delete are there\n",
    "\n",
    "3:simple,scalable,flexible,secure\n",
    "\n",
    "4:HTTP based\n",
    "\n",
    "SOAP : \n",
    "1: use for web API\n",
    "\n",
    "2: HTTP and TLS and also support TCP and SMTP\n",
    "\n",
    "3:much secure than RESTREST :\n",
    "\n",
    "shortcomings/limitations of soap :\n",
    "\n",
    "1 : Highly complex\n",
    "\n",
    "In comparison to Rest, SOAP is significantly more complex. It's also less flexible. This might present a challenge for developers that are not highly skilled. The extensive processing required may also slow down performance.\n",
    "\n",
    "2 : No variety of data formats\n",
    "\n",
    "SOAP is also extremely limited in its support of data formats. The formats supported by Rest include HTML, JSON, YAML, XML and others. Meanwhile, SOAP only supports XML.\n",
    "\n",
    "3 : API calls are not cached\n",
    "\n",
    "The process where a request is sent after an API is set up with the correct endpoints is referred to as an API call. The process results in the information being transferred, processed and feedback being provided. It's not possible for SOAP API calls to be cached.\n",
    "\n",
    "4 :Uses more bandwidth\n",
    "\n",
    "SOAP is generally slower in comparison to Rest and it also uses more bandwidth given its very complex nature. It’s another limiting factor in the efficacy of this technology for certain projects."
   ]
  },
  {
   "cell_type": "markdown",
   "id": "a2b7b4a5-874f-438f-a2c3-085fba8d8441",
   "metadata": {},
   "source": [
    "Q5. Differentiate between REST and SOAP."
   ]
  },
  {
   "cell_type": "markdown",
   "id": "7415e7c8-1b64-4e7e-aea2-0018e0bfd7c2",
   "metadata": {},
   "source": [
    "ANS 5:\n",
    "1.SOAP stands for Simple Object Access Protocol whereas REST stands for Representational State Transfer.\n",
    "2.SOAP is a protocol whereas REST is an architectural pattern.\n",
    "3.SOAP uses service interfaces to expose its functionality to client applications while REST uses Uniform Service locators to access to the components on the hardware device.\n",
    "4.SOAP needs more bandwidth for its usage whereas REST doesn’t need much bandwidth.\n",
    "5.Comparing SOAP vs REST API, SOAP only works with XML formats whereas REST work with plain text, XML, HTML and JSON.\n",
    "6.SOAP cannot make use of REST whereas REST can make use of SOAP."
   ]
  }
 ],
 "metadata": {
  "kernelspec": {
   "display_name": "Python 3 (ipykernel)",
   "language": "python",
   "name": "python3"
  },
  "language_info": {
   "codemirror_mode": {
    "name": "ipython",
    "version": 3
   },
   "file_extension": ".py",
   "mimetype": "text/x-python",
   "name": "python",
   "nbconvert_exporter": "python",
   "pygments_lexer": "ipython3",
   "version": "3.10.8"
  }
 },
 "nbformat": 4,
 "nbformat_minor": 5
}
