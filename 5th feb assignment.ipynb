{
 "cells": [
  {
   "cell_type": "markdown",
   "id": "5b5d004d-f719-4d3b-b7a8-a9024dfc28b8",
   "metadata": {},
   "source": [
    "Q1. Explain Class and Object with respect to Object-Oriented Programming. Give a suitable example."
   ]
  },
  {
   "cell_type": "code",
   "execution_count": 8,
   "id": "85b6f58b-2d65-41fc-a7e8-413d9ee089d1",
   "metadata": {},
   "outputs": [
    {
     "name": "stdout",
     "output_type": "stream",
     "text": [
      "John\n",
      "36\n"
     ]
    }
   ],
   "source": [
    "# Ans 1:\n",
    "#class is the blue print of an object,which is structured ,methods defined to perform operations on similar kind \n",
    "#object is an instance of class which is a real world identity .all the operations are performed on the basis of class\n",
    "\n",
    "class Person:\n",
    "  def __init__(self, name, age):\n",
    "    self.name = name\n",
    "    self.age = age\n",
    "\n",
    "p1 = Person(\"John\", 36)\n",
    "\n",
    "print(p1.name)\n",
    "print(p1.age)\n"
   ]
  },
  {
   "cell_type": "markdown",
   "id": "799beae5-430a-4c17-928d-5adb8a60e82b",
   "metadata": {},
   "source": [
    "Q2. Name the four pillars of OOPs."
   ]
  },
  {
   "cell_type": "markdown",
   "id": "17b2e382-2309-46c3-b0ef-249889f96a3d",
   "metadata": {},
   "source": [
    "ANS 2 \n",
    "four piller of oops is\n",
    "1: Abstraction,\n",
    "2: Polymorphism,\n",
    "3: Encapsulation,\n",
    "4: inheritance"
   ]
  },
  {
   "cell_type": "markdown",
   "id": "8384f2d2-38c7-4390-b098-09fdc1f3e5cd",
   "metadata": {},
   "source": [
    "Q3. Explain why the __init__() function is used. Give a suitable example."
   ]
  },
  {
   "cell_type": "markdown",
   "id": "f66974d8-e9bd-4a66-a397-7f5e135b97d8",
   "metadata": {},
   "source": [
    "ANS 3\n",
    "In Python, the __init__() function is a special method that is called when an object of a class is created. It is used to initialize the attributes of the object with values passed as arguments when creating the object.\n",
    "\n",
    "The __init__() method takes the self parameter, which refers to the object being created, as well as any additional parameters that are required to initialize the object's attributes. Within the __init__() method, you can set the object's attributes to the values passed as arguments or to default values."
   ]
  },
  {
   "cell_type": "code",
   "execution_count": 9,
   "id": "fb47395d-d301-4fc1-b890-51a796a9dc96",
   "metadata": {},
   "outputs": [
    {
     "name": "stdout",
     "output_type": "stream",
     "text": [
      "Hello, my name is Alice and I am 25 years old.\n",
      "Hello, my name is Bob and I am 30 years old.\n"
     ]
    }
   ],
   "source": [
    "# Here is an example of using the __init__() method to initialize the attributes of a Person class:\n",
    "class Person:\n",
    "    def __init__(self, name, age):\n",
    "        self.name = name\n",
    "        self.age = age\n",
    "\n",
    "    def say_hello(self):\n",
    "        print(f\"Hello, my name is {self.name} and I am {self.age} years old.\")\n",
    "\n",
    "person1 = Person(\"Alice\", 25)\n",
    "person1.say_hello() \n",
    "\n",
    "person2 = Person(\"Bob\", 30)\n",
    "person2.say_hello() \n",
    "    "
   ]
  },
  {
   "cell_type": "markdown",
   "id": "c180abe2-402a-43e5-a42f-d4bce228515d",
   "metadata": {},
   "source": [
    "Q4. Why self is used in OOPs?"
   ]
  },
  {
   "cell_type": "markdown",
   "id": "8eab3824-3fcc-4f58-ad37-0506649679ac",
   "metadata": {},
   "source": [
    "ANS 4   \n",
    "In Object-Oriented Programming (OOP), self is a reference to the instance of a class. It is used to access the attributes and methods of an object within the class definition.\n",
    "When you define a method in a class, the first parameter of the method is typically self. This parameter refers to the object that the method is being called on, allowing you to access the object's attributes and methods. You can think of self as a way to refer to the object from within the class.    "
   ]
  },
  {
   "cell_type": "markdown",
   "id": "8a335e68-eabf-44c0-84b7-6ab5540d48e2",
   "metadata": {},
   "source": [
    "Q5. What is inheritance? Give an example for each type of inheritance."
   ]
  },
  {
   "cell_type": "markdown",
   "id": "0f0bfe77-355a-49aa-bb25-83736ed4dec7",
   "metadata": {},
   "source": [
    "ANS 5\n",
    "Inheritance is a fundamental concept in Object-Oriented Programming (OOP) that allows one class to inherit properties and methods from another class. The class that inherits is called the subclass or derived class, and the class being inherited from is called the superclass or base class.\n",
    "\n",
    "In Python, there are three types of inheritance:\n",
    "Single inheritance: where a subclass inherits from a single superclass.\n",
    "Multiple inheritance: where a subclass inherits from multiple superclasses.\n",
    "Multi-level inheritance: where a subclass inherits from a superclass, which in turn inherits from another superclass."
   ]
  },
  {
   "cell_type": "code",
   "execution_count": null,
   "id": "916b42d9-54ed-4959-8d3b-4b055d5d0a80",
   "metadata": {},
   "outputs": [],
   "source": [
    "Here are examples of each type of inheritance:\n",
    "\n",
    "Single inheritance:\n",
    "    \n",
    "    class Vehicle:\n",
    "    def __init__(self, make, model, year):\n",
    "        self.make = make\n",
    "        self.model = model\n",
    "        self.year = year\n",
    "\n",
    "    def start(self):\n",
    "        print(f\"{self.make} {self.model} started.\")\n",
    "\n",
    "class Car(Vehicle):\n",
    "    def __init__(self, make, model, year, num_doors):\n",
    "        super().__init__(make, model, year)\n",
    "        self.num_doors = num_doors\n",
    "\n",
    "    def __init__(self, name):\n",
    "        self.name = name\n",
    "\n",
    "    def speak(self):\n",
    "        print(f\"{self.name} speaks.\")\n",
    "\n",
    "class Mammal:\n",
    "    def __init__(self, species):\n",
    "        self.species = species\n",
    "\n",
    "    def feed_milk(self):\n",
    "        print(f\"{self.species} feeds milk.\")\n",
    "\n",
    "class Dog(Animal, Mammal):\n",
    "    def __init__(self, name, breed):\n",
    "        Animal.__init__(self, name)\n",
    "        Mammal.__init__(self, \"Canine\")\n",
    "        self.breed = breed\n",
    "\n",
    "    def bark(self):\n",
    "        print(f\"{self.name} barks.\")\n",
    "\n",
    "my_dog = Dog(\"Fido\", \"Golden Retriever\")\n",
    "my_dog.speak()  # prints \"Fido speaks.\"\n",
    "my_dog.feed_milk()  # prints \"Canine feeds milk.\"\n",
    "my_dog.bark()  # prints \"Fido barks.\"\n",
    "\n",
    "In this example, we define a Vehicle class with an __init__() method and a start() method. We then define a Car class that inherits from the Vehicle class and adds a drive() method. When we create a Car object, we pass in the make, model, year, and num_doors arguments, which are used to initialize the attributes of the object. We can then call the start() and drive() methods on the my_car object to print messages.\n",
    "\n",
    "Multiple inheritance:\n",
    "    \n",
    "    class Animal:\n",
    "    def __init__(self, name):\n",
    "        self.name = name\n",
    "\n",
    "    def speak(self):\n",
    "        print(f\"{self.name} speaks.\")\n",
    "\n",
    "class Mammal:\n",
    "    def __init__(self, species):\n",
    "        self.species = species\n",
    "\n",
    "    def feed_milk(self):\n",
    "        print(f\"{self.species} feeds milk.\")\n",
    "\n",
    "class Dog(Animal, Mammal):\n",
    "    def __init__(self, name, breed):\n",
    "        Animal.__init__(self, name)\n",
    "        Mammal.__init__(self, \"Canine\")\n",
    "        self.breed = breed\n",
    "\n",
    "    def bark(self):\n",
    "        print(f\"{self.name} barks.\")\n",
    "\n",
    "my_dog = Dog(\"Fido\", \"Golden Retriever\")\n",
    "my_dog.speak()  # prints \"Fido speaks.\"\n",
    "my_dog.feed_milk()  # prints \"Canine feeds milk.\"\n",
    "my_dog.bark()  # prints \"Fido barks.\"\n",
    "\n",
    "In this example, we define an Animal class with a speak() method and a Mammal class with a feed_milk() method. We then define a Dog class that inherits from both the Animal and Mammal classes and adds a bark() method. When we create a Dog object, we pass in the name and breed arguments, which are used to initialize the attributes of the object. We can then call the speak(), feed_milk(), and bark() methods on the my_dog object to print messages.\n",
    "\n",
    "Multi-level inheritance:\n",
    "    \n",
    "    class Animal:\n",
    "    def __init__(self, name):\n",
    "        self.name = name\n",
    "\n",
    "    def speak(self):\n",
    "        print(f\"{self.name} speaks.\")\n",
    "\n",
    "class Dog(Animal):\n",
    "    def __init__(self, name, breed):\n",
    "        super().__init__(name)\n",
    "        self.breed = breed\n",
    "\n",
    "    def bark(self):\n",
    "        print(f\"{self.name} barks.\")\n",
    "\n",
    "class WorkingDog(Dog):\n",
    "    def __init__(self, name, breed, job):\n",
    "        super().__init__(name, breed)\n",
    "        self.job = job\n",
    "\n",
    "    def do_job(self):\n",
    "        print(f\"{self.name} is a {self.breed} {self.job} dog.\")\n",
    "\n",
    "my_dog = WorkingDog(\"Fido\", \"Border Collie\", \"herding\")\n",
    "my_dog.speak()  # prints \"Fido speaks.\"\n",
    "my_dog.bark()  # prints \"Fido barks.\"\n",
    "my_dog.do_job()  # prints \"Fido is a Border Collie herding dog.\""
   ]
  }
 ],
 "metadata": {
  "kernelspec": {
   "display_name": "Python 3 (ipykernel)",
   "language": "python",
   "name": "python3"
  },
  "language_info": {
   "codemirror_mode": {
    "name": "ipython",
    "version": 3
   },
   "file_extension": ".py",
   "mimetype": "text/x-python",
   "name": "python",
   "nbconvert_exporter": "python",
   "pygments_lexer": "ipython3",
   "version": "3.10.8"
  }
 },
 "nbformat": 4,
 "nbformat_minor": 5
}
