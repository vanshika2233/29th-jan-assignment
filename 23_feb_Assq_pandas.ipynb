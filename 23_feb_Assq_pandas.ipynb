{
 "cells": [
  {
   "cell_type": "markdown",
   "id": "9ffa81d2-ca67-4a93-853a-874564b6d6a9",
   "metadata": {},
   "source": [
    "Q1. Create a Pandas Series that contains the following data: 4, 8, 15, 16, 23, and 42. Then, print the series."
   ]
  },
  {
   "cell_type": "code",
   "execution_count": 30,
   "id": "0c1875f9-57db-45b5-b59b-5a3f1fb500ff",
   "metadata": {},
   "outputs": [
    {
     "name": "stdout",
     "output_type": "stream",
     "text": [
      "0     4\n",
      "1     8\n",
      "2    15\n",
      "3    16\n",
      "4    23\n",
      "5    42\n",
      "dtype: int64\n"
     ]
    }
   ],
   "source": [
    "# import pandas as pd\n",
    "import pandas as pd\n",
    " \n",
    "# import numpy as np\n",
    "import numpy as np\n",
    " \n",
    "# simple array\n",
    "data = np.array([4, 8, 15, 16, 23, 42 ])\n",
    " \n",
    "ser = pd.Series(data)\n",
    "print(ser)"
   ]
  },
  {
   "cell_type": "markdown",
   "id": "436055a9-c68b-4ef1-93aa-c1abf171058e",
   "metadata": {},
   "source": [
    "Q2. Create a variable of list type containing 10 elements in it, and apply pandas.Series function on the\n",
    "variable print it."
   ]
  },
  {
   "cell_type": "code",
   "execution_count": 31,
   "id": "f80d30ac-6c52-4ff9-9956-44161eb1e4cb",
   "metadata": {},
   "outputs": [
    {
     "data": {
      "text/plain": [
       "0      1\n",
       "1      4\n",
       "2      9\n",
       "3     16\n",
       "4     25\n",
       "5     36\n",
       "6     49\n",
       "7     64\n",
       "8     81\n",
       "9    100\n",
       "dtype: int64"
      ]
     },
     "execution_count": 31,
     "metadata": {},
     "output_type": "execute_result"
    }
   ],
   "source": [
    "data1 = [i**2 for i in range(1,11)]\n",
    "pd.Series(data1)"
   ]
  },
  {
   "cell_type": "markdown",
   "id": "706c9475-7e05-4890-83f0-5e9a4a92a9bb",
   "metadata": {},
   "source": [
    "Q3. Create a Pandas DataFrame that contains the following data:\n",
    "\n",
    "Name Alice Bob Claire\n",
    "\n",
    "Age 25 30 27\n",
    "\n",
    "Gender Female Male Female"
   ]
  },
  {
   "cell_type": "code",
   "execution_count": 32,
   "id": "7877c6f8-e77f-4bc3-a397-eaecb17c857f",
   "metadata": {},
   "outputs": [],
   "source": [
    "data3 = [[\"Name\",\"Age\",\"Gender\"],\n",
    "         [\"Alice\", \"Bob\" ,\"Claire\"],\n",
    "         [25, 30, 27],\n",
    "         [\"Female\", \"Male\", \"Female\"]]"
   ]
  },
  {
   "cell_type": "code",
   "execution_count": 33,
   "id": "d9895e02-1cf0-49bc-b6bc-7808aee232d6",
   "metadata": {},
   "outputs": [
    {
     "data": {
      "text/html": [
       "<div>\n",
       "<style scoped>\n",
       "    .dataframe tbody tr th:only-of-type {\n",
       "        vertical-align: middle;\n",
       "    }\n",
       "\n",
       "    .dataframe tbody tr th {\n",
       "        vertical-align: top;\n",
       "    }\n",
       "\n",
       "    .dataframe thead th {\n",
       "        text-align: right;\n",
       "    }\n",
       "</style>\n",
       "<table border=\"1\" class=\"dataframe\">\n",
       "  <thead>\n",
       "    <tr style=\"text-align: right;\">\n",
       "      <th></th>\n",
       "      <th>0</th>\n",
       "      <th>1</th>\n",
       "      <th>2</th>\n",
       "    </tr>\n",
       "  </thead>\n",
       "  <tbody>\n",
       "    <tr>\n",
       "      <th>0</th>\n",
       "      <td>Name</td>\n",
       "      <td>Age</td>\n",
       "      <td>Gender</td>\n",
       "    </tr>\n",
       "    <tr>\n",
       "      <th>1</th>\n",
       "      <td>Alice</td>\n",
       "      <td>Bob</td>\n",
       "      <td>Claire</td>\n",
       "    </tr>\n",
       "    <tr>\n",
       "      <th>2</th>\n",
       "      <td>25</td>\n",
       "      <td>30</td>\n",
       "      <td>27</td>\n",
       "    </tr>\n",
       "    <tr>\n",
       "      <th>3</th>\n",
       "      <td>Female</td>\n",
       "      <td>Male</td>\n",
       "      <td>Female</td>\n",
       "    </tr>\n",
       "  </tbody>\n",
       "</table>\n",
       "</div>"
      ],
      "text/plain": [
       "        0     1       2\n",
       "0    Name   Age  Gender\n",
       "1   Alice   Bob  Claire\n",
       "2      25    30      27\n",
       "3  Female  Male  Female"
      ]
     },
     "execution_count": 33,
     "metadata": {},
     "output_type": "execute_result"
    }
   ],
   "source": [
    "data4 = pd.DataFrame(data3)\n",
    "data4"
   ]
  },
  {
   "cell_type": "markdown",
   "id": "be285fce-7bda-4924-81cf-999a399e632f",
   "metadata": {},
   "source": [
    "Q4. What is ‘DataFrame’ in pandas and how is it different from pandas.series? Explain with an example."
   ]
  },
  {
   "cell_type": "markdown",
   "id": "b1dce092-4aa2-4afa-b52d-81653713973d",
   "metadata": {},
   "source": [
    "Series can only contain single list with index, whereas dataframe can be made of more than one series or we can say that a dataframe is a collection of series that can be used to analyse the data.\n",
    "\n",
    "Pandas Series is One-dimensional,Homogenous (Series elements must be of the same data type),Size-immutable (Once created, the size of a Series object cannot be changed).\n",
    "\n",
    "Whereas Pandas DataFrame are Two-dimensional,Heterogenous (DataFrame elements can have different data types),Size-mutable\n",
    "(Elements can be dropped or added in an existing DataFrame)"
   ]
  },
  {
   "cell_type": "code",
   "execution_count": 34,
   "id": "1d0ad86a-64d7-4f11-8f5c-6b0206d97a35",
   "metadata": {},
   "outputs": [
    {
     "data": {
      "text/html": [
       "<div>\n",
       "<style scoped>\n",
       "    .dataframe tbody tr th:only-of-type {\n",
       "        vertical-align: middle;\n",
       "    }\n",
       "\n",
       "    .dataframe tbody tr th {\n",
       "        vertical-align: top;\n",
       "    }\n",
       "\n",
       "    .dataframe thead th {\n",
       "        text-align: right;\n",
       "    }\n",
       "</style>\n",
       "<table border=\"1\" class=\"dataframe\">\n",
       "  <thead>\n",
       "    <tr style=\"text-align: right;\">\n",
       "      <th></th>\n",
       "      <th>0</th>\n",
       "      <th>1</th>\n",
       "      <th>2</th>\n",
       "    </tr>\n",
       "  </thead>\n",
       "  <tbody>\n",
       "    <tr>\n",
       "      <th>0</th>\n",
       "      <td>Name</td>\n",
       "      <td>Age</td>\n",
       "      <td>Gender</td>\n",
       "    </tr>\n",
       "    <tr>\n",
       "      <th>1</th>\n",
       "      <td>Alice</td>\n",
       "      <td>Bob</td>\n",
       "      <td>Claire</td>\n",
       "    </tr>\n",
       "    <tr>\n",
       "      <th>2</th>\n",
       "      <td>25</td>\n",
       "      <td>30</td>\n",
       "      <td>27</td>\n",
       "    </tr>\n",
       "    <tr>\n",
       "      <th>3</th>\n",
       "      <td>Female</td>\n",
       "      <td>Male</td>\n",
       "      <td>Female</td>\n",
       "    </tr>\n",
       "  </tbody>\n",
       "</table>\n",
       "</div>"
      ],
      "text/plain": [
       "        0     1       2\n",
       "0    Name   Age  Gender\n",
       "1   Alice   Bob  Claire\n",
       "2      25    30      27\n",
       "3  Female  Male  Female"
      ]
     },
     "execution_count": 34,
     "metadata": {},
     "output_type": "execute_result"
    }
   ],
   "source": [
    "#this is dataframe\n",
    "data4"
   ]
  },
  {
   "cell_type": "code",
   "execution_count": 35,
   "id": "3feaf5bb-4360-4bac-8501-a141b4d7562a",
   "metadata": {},
   "outputs": [
    {
     "data": {
      "text/plain": [
       "0      Name\n",
       "1     Alice\n",
       "2        25\n",
       "3    Female\n",
       "Name: 0, dtype: object"
      ]
     },
     "execution_count": 35,
     "metadata": {},
     "output_type": "execute_result"
    }
   ],
   "source": [
    "#this is series\n",
    "data4[0]"
   ]
  },
  {
   "cell_type": "markdown",
   "id": "cf53b416-5d67-4c02-98e7-46d3bcf33502",
   "metadata": {},
   "source": [
    "Q5. What are some common functions you can use to manipulate data in a Pandas DataFrame? Can\n",
    "you give an example of when you might use one of these functions?"
   ]
  },
  {
   "cell_type": "markdown",
   "id": "e898e2ea-8b77-46e1-a89a-6eb60401027a",
   "metadata": {},
   "source": [
    "Some common functions are :\n",
    "1.READ DATA:We can read data in pandas data frame as read_csv()\n",
    "2.Head and Tail:To see the data frame we can use df.head(). Head returns the first rows, if no input is given it will always show above 5 rows. In contrast to see below rows, we can use df.tail().\n",
    "3.memory_usage(): It returns a Pandas Series having the memory usage of each column (in bytes) in a Pandas DataFrame.\n",
    "4.loc[:] :It helps to access a group of rows and columns in a dataset, a slice of the dataset, as per our requirement.\n",
    "5.Describe(): Used to generate descriptive statistics of the data in a Pandas DataFrame or Series."
   ]
  },
  {
   "cell_type": "code",
   "execution_count": 36,
   "id": "40114719-fc7b-4269-ae6d-a86c74ade447",
   "metadata": {},
   "outputs": [
    {
     "data": {
      "text/plain": [
       "Index    128\n",
       "0         32\n",
       "1         32\n",
       "2         32\n",
       "dtype: int64"
      ]
     },
     "execution_count": 36,
     "metadata": {},
     "output_type": "execute_result"
    }
   ],
   "source": [
    "data4.memory_usage()"
   ]
  },
  {
   "cell_type": "markdown",
   "id": "77d937f6-86b7-451d-9a20-259e080c4e78",
   "metadata": {},
   "source": [
    "Q6. Which of the following is mutable in nature Series, DataFrame, Panel?"
   ]
  },
  {
   "cell_type": "markdown",
   "id": "1cccc6fd-b39e-4ea5-8a09-f61846d30288",
   "metadata": {},
   "source": [
    "Both Series and DataFrame are mutable in nature, while Panel is now deprecated in the latest version of Pandas, and its functionalities are replaced by other data structures like MultiIndex and Panel4D.\n",
    "\n",
    "In Pandas, the term mutable refers to the ability to modify the data elements of an object after it has been created. Both Series and DataFrame objects can be modified after creation by adding, deleting, or updating rows or columns. However, the object's index and column labels can also be modified, which makes them mutable in nature.\n",
    "\n",
    "For instance, to modify a DataFrame's column, we can use the following syntax:\n",
    "\n",
    "df['column_name'] = new_values\n",
    "\n",
    "Similarly, to modify a Series, we can use the following syntax:\n",
    "\n",
    "series_name[index] = new_value\n",
    "\n",
    "However, it is essential to note that some operations, such as reindexing, can create a new object instead of modifying the existing one.\n"
   ]
  },
  {
   "cell_type": "markdown",
   "id": "742a3d98-2975-43ec-ad4f-404aa52c39c2",
   "metadata": {},
   "source": [
    "Q7. Create a DataFrame using multiple Series. Explain with an example."
   ]
  },
  {
   "cell_type": "markdown",
   "id": "7b33ff63-b51f-4645-b3b5-25b66d5eeb93",
   "metadata": {},
   "source": [
    "In Pandas, we can create a DataFrame using multiple Series. Here is an example of how to create a DataFrame using two Series:"
   ]
  },
  {
   "cell_type": "code",
   "execution_count": 37,
   "id": "c3611423-bb71-4508-97e9-2cf6e9b1ccd4",
   "metadata": {},
   "outputs": [
    {
     "data": {
      "text/html": [
       "<div>\n",
       "<style scoped>\n",
       "    .dataframe tbody tr th:only-of-type {\n",
       "        vertical-align: middle;\n",
       "    }\n",
       "\n",
       "    .dataframe tbody tr th {\n",
       "        vertical-align: top;\n",
       "    }\n",
       "\n",
       "    .dataframe thead th {\n",
       "        text-align: right;\n",
       "    }\n",
       "</style>\n",
       "<table border=\"1\" class=\"dataframe\">\n",
       "  <thead>\n",
       "    <tr style=\"text-align: right;\">\n",
       "      <th></th>\n",
       "      <th>Name</th>\n",
       "      <th>Age</th>\n",
       "    </tr>\n",
       "  </thead>\n",
       "  <tbody>\n",
       "    <tr>\n",
       "      <th>0</th>\n",
       "      <td>John</td>\n",
       "      <td>30</td>\n",
       "    </tr>\n",
       "    <tr>\n",
       "      <th>1</th>\n",
       "      <td>Bob</td>\n",
       "      <td>25</td>\n",
       "    </tr>\n",
       "    <tr>\n",
       "      <th>2</th>\n",
       "      <td>Alice</td>\n",
       "      <td>35</td>\n",
       "    </tr>\n",
       "  </tbody>\n",
       "</table>\n",
       "</div>"
      ],
      "text/plain": [
       "    Name  Age\n",
       "0   John   30\n",
       "1    Bob   25\n",
       "2  Alice   35"
      ]
     },
     "execution_count": 37,
     "metadata": {},
     "output_type": "execute_result"
    }
   ],
   "source": [
    "import pandas as pd\n",
    "\n",
    "# create first series\n",
    "names = pd.Series(['John', 'Bob', 'Alice'])\n",
    "\n",
    "# create second series\n",
    "ages = pd.Series([30, 25, 35])\n",
    "\n",
    "#create third series\n",
    "\n",
    "gender = pd.Series([\"Male\",\"Male\",\"Female\"])\n",
    "\n",
    "# create a DataFrame using the two series\n",
    "df = pd.DataFrame({'Name': names, 'Age': ages})\n",
    "\n",
    "# display the DataFrame\n",
    "df"
   ]
  }
 ],
 "metadata": {
  "kernelspec": {
   "display_name": "Python 3 (ipykernel)",
   "language": "python",
   "name": "python3"
  },
  "language_info": {
   "codemirror_mode": {
    "name": "ipython",
    "version": 3
   },
   "file_extension": ".py",
   "mimetype": "text/x-python",
   "name": "python",
   "nbconvert_exporter": "python",
   "pygments_lexer": "ipython3",
   "version": "3.10.8"
  }
 },
 "nbformat": 4,
 "nbformat_minor": 5
}
