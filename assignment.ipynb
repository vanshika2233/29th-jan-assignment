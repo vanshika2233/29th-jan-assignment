{
 "cells": [
  {
   "cell_type": "markdown",
   "id": "2083cc56-fdc6-40e7-9a45-7c31bbcbd567",
   "metadata": {},
   "source": [
    "Q1.Who developed python programming language?"
   ]
  },
  {
   "cell_type": "markdown",
   "id": "fbd1e54e-9a77-4d0c-b9ae-4e4b51e2c1ab",
   "metadata": {},
   "source": [
    "A1.Python was created by Guido van Rossum(a dutch programmer) and first released on February 20, 1991."
   ]
  },
  {
   "cell_type": "markdown",
   "id": "11642e55-978c-4947-a429-33fcb0797c93",
   "metadata": {},
   "source": [
    "Q2.Which type of programming does python support?"
   ]
  },
  {
   "cell_type": "markdown",
   "id": "90567b1d-04e2-432f-a113-98308c69a37c",
   "metadata": {},
   "source": [
    "A2.Python is an interpreted programming language which suports object-oriented, structured, and functional programming."
   ]
  },
  {
   "cell_type": "markdown",
   "id": "65a5c40b-1ce9-4f9c-a9e6-0917c4d2ec9d",
   "metadata": {},
   "source": [
    "Q3.Is python case sensitive when dealing with identifiers?"
   ]
  },
  {
   "cell_type": "markdown",
   "id": "efe10de4-cb88-4e41-b284-45c014c7c461",
   "metadata": {},
   "source": [
    "A3. Yes, Python is case sensitive when dealing with identifiers."
   ]
  },
  {
   "cell_type": "markdown",
   "id": "bd7a29ee-7a04-4b01-b91d-f4d6e0eab857",
   "metadata": {},
   "source": [
    " Q4. What is the correct extension of the Python file? \n"
   ]
  },
  {
   "cell_type": "markdown",
   "id": "be26e172-e9d4-49c0-ac3e-7e5952851c8f",
   "metadata": {},
   "source": [
    "A4. Python is a widely used programming or coding language used for different purposes. The extensions for Python files are - .py, .pyi, .pyc, .pyd, .pyo, .pyw, and .pyz.\n"
   ]
  },
  {
   "cell_type": "markdown",
   "id": "558c2ca7-c760-4153-8726-badbf4e20016",
   "metadata": {},
   "source": [
    "Q5. Is Python code compiled or interpreted? \n"
   ]
  },
  {
   "cell_type": "markdown",
   "id": "caa5e6c5-472c-411b-8f6d-791109a9c752",
   "metadata": {},
   "source": [
    "A5. For the most part, Python is an interpreted language and not a compiled one, although compilation is a step. Python code, written in .py file is first compiled to what is called bytecode which is stored with a .pyc or .pyo format."
   ]
  },
  {
   "cell_type": "markdown",
   "id": "9b823c52-8795-46af-8e36-eb276b3007b8",
   "metadata": {},
   "source": [
    "Q6. Name a few blocks of code used to define in Python language? "
   ]
  },
  {
   "cell_type": "markdown",
   "id": "b53b376f-168b-442b-8887-51cf713e8184",
   "metadata": {},
   "source": [
    "A6. A code block is a piece of Python program text that can be executed as a unit, such as a module, a class definition or a function body.Examples of block codes are Reed–Solomon codes, Hamming codes, Hadamard codes, Expander codes, Golay codes, and Reed–Muller codes. "
   ]
  },
  {
   "cell_type": "markdown",
   "id": "18d2db3d-f60d-4c94-8fa5-c08c0ed31091",
   "metadata": {},
   "source": [
    "Q7. State a character used to give single-line comments in Python? \n",
    "\n"
   ]
  },
  {
   "cell_type": "markdown",
   "id": "76e1b4ae-b5ba-497e-8bb2-0cf4ff9c32d3",
   "metadata": {},
   "source": [
    "A7. In Python, we use the hash symbol # to write a single-line comment."
   ]
  },
  {
   "cell_type": "markdown",
   "id": "e787de59-6712-4863-8811-38a21f3378dc",
   "metadata": {},
   "source": [
    "Q8. Mention functions which can help us to find the version of python that we are currently working on? \n"
   ]
  },
  {
   "cell_type": "markdown",
   "id": "2d8b05dc-61fe-4256-b93d-9ab2c5fa0e29",
   "metadata": {},
   "source": [
    "A8. The function sys.version can help us to find the version of python that we are currently working on. It also contains information on the build number,  current date, time, bits etc along with the version."
   ]
  },
  {
   "cell_type": "markdown",
   "id": "d2df6a89-170b-4a0a-a1d9-5d9e0a8feb4d",
   "metadata": {},
   "source": [
    "Q9. Python supports the creation of anonymous functions at runtime, using a construct called "
   ]
  },
  {
   "cell_type": "markdown",
   "id": "6a103d0e-f645-4425-9f9a-1108e111492c",
   "metadata": {},
   "source": [
    "A9. Lambda"
   ]
  },
  {
   "cell_type": "markdown",
   "id": "99c901e1-0c2e-4e36-9985-3dc81171dcf5",
   "metadata": {},
   "source": [
    "Q10. What does pip stand for python? \n"
   ]
  },
  {
   "cell_type": "markdown",
   "id": "4ec68994-2c15-46b6-bb7b-725ca0f276fd",
   "metadata": {},
   "source": [
    "A10. PIP stands for “Preferred Installer Program” or PIP Installs Packages."
   ]
  },
  {
   "cell_type": "markdown",
   "id": "907e0a8b-5200-4c60-8939-6dd437e85296",
   "metadata": {},
   "source": [
    "Q11. Mention a few built-in functions in python? "
   ]
  },
  {
   "cell_type": "markdown",
   "id": "54ae6c9e-fe0e-4864-bfa1-5ed5bc696a28",
   "metadata": {},
   "source": [
    "A11.bool()  = Returns the boolean value of the specified object,\n",
    "dict()\t= Returns a dictionary (Array),\n",
    "float()\t= Returns a floating point number,\n",
    "input()\t= Allowing user input,\n",
    "int()\t= Returns an integer number,\n",
    "len()\t= Returns the length of an object,\n",
    "list()\t= Returns a list,\n",
    "print()\t= Prints to the standard output device,\n",
    "range()\t= Returns a sequence of numbers, starting from 0 and increments by 1 (by default).\n"
   ]
  },
  {
   "cell_type": "markdown",
   "id": "e500c335-4447-4aa9-9f61-0fb14bb8c115",
   "metadata": {},
   "source": [
    "Q12. What is the maximum possible length of an identifier in Python? "
   ]
  },
  {
   "cell_type": "markdown",
   "id": "07d53783-662d-4f06-a158-46d2440be5b4",
   "metadata": {},
   "source": [
    "A12. The maximum possible length of an identifier in Python is 79 characters."
   ]
  },
  {
   "cell_type": "markdown",
   "id": "8cc2500c-8780-449a-9ccf-522ff77f2f1f",
   "metadata": {},
   "source": [
    "Q13. What are the benefits of using Python? "
   ]
  },
  {
   "cell_type": "markdown",
   "id": "618ce288-e540-4df2-a9e5-faebe1ced1e0",
   "metadata": {},
   "source": [
    "A.13 1. Python Libraries help reduce coding errors, make programmers more efficient, and make software smaller in size (and lines of code).\n",
    "2. Python Is Easy to Learn as the language is so simple to read and write in, it also makes a great second or third language to add to your developer resume.\n",
    " 3. Python can be used to develop both desktop and web apps and complex scientific and numerical applications. Python's data analysis features help you create custom big data solutions without so much time and effort.\n",
    "4. we can also use the Python data visualization libraries and APIs to present data in a more appealing way.\n",
    "5. several advanced software developers use Python to accomplish high-end AI and natural language processing tasks. \n"
   ]
  },
  {
   "cell_type": "markdown",
   "id": "455af237-efa6-42dc-a1f4-3b90efb598a5",
   "metadata": {},
   "source": [
    "Q14. How is memory managed in Python? \n"
   ]
  },
  {
   "cell_type": "markdown",
   "id": "ee2b73ed-8514-4bb9-8019-21df17d8fd5f",
   "metadata": {},
   "source": [
    "A14.Memory in Python is managed by Python private heap space. All Python objects and data structures are located in a private heap. "
   ]
  },
  {
   "cell_type": "markdown",
   "id": "bbc7e2ac-d19c-4d21-8156-eca3f350bd90",
   "metadata": {},
   "source": [
    "Q15. How to install Python on Windows and set path variables? \n"
   ]
  },
  {
   "cell_type": "markdown",
   "id": "4b8b4291-96fe-4791-a3b4-56bf0c2ae0c7",
   "metadata": {},
   "source": [
    "A15. Right click on My Computer ->Properties ->Advanced System setting ->Environment Variable ->New\n",
    "In Variable name write path and in Variable value copy path up to C://Python(i.e., path where Python is installed). Click Ok ->Ok.\n",
    "Path will be set for executing Python programs."
   ]
  },
  {
   "cell_type": "markdown",
   "id": "743a834c-6a70-4cee-9d9d-e46a02467eb9",
   "metadata": {},
   "source": [
    "Q16. Is indentation required in python? \n"
   ]
  },
  {
   "cell_type": "markdown",
   "id": "25341631-94a4-4419-9e4a-bd4153373726",
   "metadata": {},
   "source": [
    "A16. Indentation is mandatory in python to define the blocks of statements."
   ]
  }
 ],
 "metadata": {
  "kernelspec": {
   "display_name": "Python 3 (ipykernel)",
   "language": "python",
   "name": "python3"
  },
  "language_info": {
   "codemirror_mode": {
    "name": "ipython",
    "version": 3
   },
   "file_extension": ".py",
   "mimetype": "text/x-python",
   "name": "python",
   "nbconvert_exporter": "python",
   "pygments_lexer": "ipython3",
   "version": "3.10.8"
  }
 },
 "nbformat": 4,
 "nbformat_minor": 5
}
