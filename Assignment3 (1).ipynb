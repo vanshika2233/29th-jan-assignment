{
 "cells": [
  {
   "cell_type": "markdown",
   "id": "ac4eb9fe-d4af-4e86-a093-f0cbec33461c",
   "metadata": {},
   "source": [
    "QUES 1 Explain with an example each when to use a for loop and a while loop."
   ]
  },
  {
   "cell_type": "code",
   "execution_count": 13,
   "id": "cce6e302-bf6c-47ac-a043-134953d46079",
   "metadata": {},
   "outputs": [
    {
     "name": "stdout",
     "output_type": "stream",
     "text": [
      "1\n",
      "4\n",
      "9\n",
      "16\n"
     ]
    }
   ],
   "source": [
    "#ANS 1 for loop is used when you know the loop should execute n times and\n",
    "#while loop is used for reading a file into a variable , \n",
    "#when asking for user input and when the increment value is nonstandard.\n",
    "l  = [1,2,3,4,0,0]\n",
    "i = 0\n",
    "while l[i] > 0:\n",
    "    a = l[i]**2\n",
    "    print(a)\n",
    "    i+=1"
   ]
  },
  {
   "cell_type": "code",
   "execution_count": 4,
   "id": "d6420391-8fcc-48a9-be9c-84c0258b52e3",
   "metadata": {},
   "outputs": [
    {
     "name": "stdout",
     "output_type": "stream",
     "text": [
      "1\n",
      "4\n",
      "9\n",
      "16\n"
     ]
    }
   ],
   "source": [
    "for i in range(len(l)):\n",
    "    if l[i]>0:\n",
    "        print(l[i]**2)"
   ]
  },
  {
   "cell_type": "markdown",
   "id": "832301a3-13df-4877-9290-cbb5e0d1f03d",
   "metadata": {},
   "source": [
    " Q2. Write a python program to print the sum and product of the first 10 natural numbers using for and while loop."
   ]
  },
  {
   "cell_type": "code",
   "execution_count": 9,
   "id": "89445c03-045f-47d0-8d5d-cd492f0bdde5",
   "metadata": {},
   "outputs": [
    {
     "data": {
      "text/plain": [
       "(55, 3628800)"
      ]
     },
     "execution_count": 9,
     "metadata": {},
     "output_type": "execute_result"
    }
   ],
   "source": [
    "# ANS 2\n",
    "n = 10\n",
    "i = 1\n",
    "product = 1\n",
    "s= 0\n",
    "while i <=10:\n",
    "    s= s + i\n",
    "    product = product * i\n",
    "    i+=1\n",
    "    \n",
    "s,product"
   ]
  },
  {
   "cell_type": "markdown",
   "id": "88e8ba29-3e6b-4a17-9b8b-726a4448822b",
   "metadata": {
    "tags": []
   },
   "source": [
    "Q3. Create a python program to compute the electricity bill for a household.\n",
    "The per-unit charges in rupees are as follows: For the first 100 units, the user will be charged Rs. 4.5 per\n",
    "unit, for the next 100 units, the user will be charged Rs. 6 per unit, and for the next 100 units, the user will\n",
    "be charged Rs. 10 per unit, After 300 units and above the user will be charged Rs. 20 per unit.\n",
    "You are required to take the units of electricity consumed in a month from the user as input.\n",
    "Your program must pass this test case: when the unit of electricity consumed by the user in a month is\n",
    "310, the total electricity bill should be 2250.\n"
   ]
  },
  {
   "cell_type": "code",
   "execution_count": 12,
   "id": "d7cf4139-bcdb-4855-8b41-2bcf04757053",
   "metadata": {},
   "outputs": [
    {
     "name": "stdin",
     "output_type": "stream",
     "text": [
      "Enter the unit :  310\n"
     ]
    },
    {
     "name": "stdout",
     "output_type": "stream",
     "text": [
      "Your bill is : 2250.0\n"
     ]
    }
   ],
   "source": [
    "# ANS 3\n",
    "unit = int(input(\"Enter the unit : \"))\n",
    "if unit > 300:\n",
    "    x = [100,100,100,unit-300]\n",
    "elif unit > 200 and unit < 301:\n",
    "    x = [100,100,unit-200]\n",
    "elif unit>100 and unit <201:\n",
    "    x = [100,unit-100]\n",
    "elif unit <= 100:\n",
    "    x = unit\n",
    "\n",
    "if len(x) == 1:\n",
    "    print(\"Your bill is :\",x[0] * 4.5)\n",
    "elif len(x) == 2:\n",
    "    print(\"Your bill is :\",x[0]* 4.5 + x[1]*6)\n",
    "elif x ==3:\n",
    "    print(\"Your bill is :\",x[0]* 4.5 + x[1]*6 + x[2] *10)\n",
    "else :\n",
    "    print(\"Your bill is :\",x[0]* 4.5 + x[1]*6 + x[2] *10 + x[3]*20)\n",
    "\n"
   ]
  },
  {
   "cell_type": "markdown",
   "id": "cbcde1b4-3bdf-4ac0-b278-9dd2d9c6ce08",
   "metadata": {},
   "source": [
    "Q4. Create a list of numbers from 1 to 100. Use for loop and while loop to calculate the cube of each  number and if the cube of that number is divisible by 4 or 5 then append that number in a list and print  that list. \n"
   ]
  },
  {
   "cell_type": "code",
   "execution_count": 10,
   "id": "ee29ee58-92ca-4d82-bf02-431c97f4964e",
   "metadata": {},
   "outputs": [
    {
     "data": {
      "text/plain": [
       "([8,\n",
       "  64,\n",
       "  125,\n",
       "  216,\n",
       "  512,\n",
       "  1000,\n",
       "  1728,\n",
       "  2744,\n",
       "  3375,\n",
       "  4096,\n",
       "  5832,\n",
       "  8000,\n",
       "  10648,\n",
       "  13824,\n",
       "  15625,\n",
       "  17576,\n",
       "  21952,\n",
       "  27000,\n",
       "  32768,\n",
       "  39304,\n",
       "  42875,\n",
       "  46656,\n",
       "  54872,\n",
       "  64000,\n",
       "  74088,\n",
       "  85184,\n",
       "  91125,\n",
       "  97336,\n",
       "  110592,\n",
       "  125000,\n",
       "  140608,\n",
       "  157464,\n",
       "  166375,\n",
       "  175616,\n",
       "  195112,\n",
       "  216000,\n",
       "  238328,\n",
       "  262144,\n",
       "  274625,\n",
       "  287496,\n",
       "  314432,\n",
       "  343000,\n",
       "  373248,\n",
       "  405224,\n",
       "  421875,\n",
       "  438976,\n",
       "  474552,\n",
       "  512000,\n",
       "  551368,\n",
       "  592704,\n",
       "  614125,\n",
       "  636056,\n",
       "  681472,\n",
       "  729000,\n",
       "  778688,\n",
       "  830584,\n",
       "  857375,\n",
       "  884736,\n",
       "  941192,\n",
       "  1000000],\n",
       " [8,\n",
       "  64,\n",
       "  125,\n",
       "  216,\n",
       "  512,\n",
       "  1000,\n",
       "  1728,\n",
       "  2744,\n",
       "  3375,\n",
       "  4096,\n",
       "  5832,\n",
       "  8000,\n",
       "  10648,\n",
       "  13824,\n",
       "  15625,\n",
       "  17576,\n",
       "  21952,\n",
       "  27000,\n",
       "  32768,\n",
       "  39304,\n",
       "  42875,\n",
       "  46656,\n",
       "  54872,\n",
       "  64000,\n",
       "  74088,\n",
       "  85184,\n",
       "  91125,\n",
       "  97336,\n",
       "  110592,\n",
       "  125000,\n",
       "  140608,\n",
       "  157464,\n",
       "  166375,\n",
       "  175616,\n",
       "  195112,\n",
       "  216000,\n",
       "  238328,\n",
       "  262144,\n",
       "  274625,\n",
       "  287496,\n",
       "  314432,\n",
       "  343000,\n",
       "  373248,\n",
       "  405224,\n",
       "  421875,\n",
       "  438976,\n",
       "  474552,\n",
       "  512000,\n",
       "  551368,\n",
       "  592704,\n",
       "  614125,\n",
       "  636056,\n",
       "  681472,\n",
       "  729000,\n",
       "  778688,\n",
       "  830584,\n",
       "  857375,\n",
       "  884736,\n",
       "  941192,\n",
       "  1000000])"
      ]
     },
     "execution_count": 10,
     "metadata": {},
     "output_type": "execute_result"
    }
   ],
   "source": [
    "#ANS 4\n",
    "a = []\n",
    "for i in range(1,101):\n",
    "    a.append(i)\n",
    "l1 = []  \n",
    "for i in a:\n",
    "    n = i**3\n",
    "    if n % 4 ==0 or n % 5 == 0:\n",
    "        l1.append(n)\n",
    "i = 0\n",
    "l2 = []\n",
    "while i < 100:\n",
    "    p = a[i]**3\n",
    "    if p % 4 == 0 or p % 5 == 0 :\n",
    "        l2.append(p)\n",
    "    i+=1\n",
    "    \n",
    "    \n",
    "l1,l2"
   ]
  },
  {
   "cell_type": "markdown",
   "id": "936ebf38-1196-4493-8404-f90175942e1f",
   "metadata": {},
   "source": [
    "Q5.  Write a program to filter count vowels in the below-given string. \n",
    "string = \"I want to become a data scientist\" \n"
   ]
  },
  {
   "cell_type": "code",
   "execution_count": 12,
   "id": "478fee19-1715-42fc-a936-4d97c89cb13f",
   "metadata": {},
   "outputs": [
    {
     "data": {
      "text/plain": [
       "12"
      ]
     },
     "execution_count": 12,
     "metadata": {},
     "output_type": "execute_result"
    }
   ],
   "source": [
    "#ANS 5\n",
    "string = \"I want to become a data scientist\"\n",
    "vowel = list(filter(lambda x : x == 'a'or x =='A' or x == 'e'or x =='E' or x == 'i'or x =='I' or x == 'o'or x =='O' or x == 'u'or x =='U',string))\n",
    "len(vowel)"
   ]
  }
 ],
 "metadata": {
  "kernelspec": {
   "display_name": "Python 3 (ipykernel)",
   "language": "python",
   "name": "python3"
  },
  "language_info": {
   "codemirror_mode": {
    "name": "ipython",
    "version": 3
   },
   "file_extension": ".py",
   "mimetype": "text/x-python",
   "name": "python",
   "nbconvert_exporter": "python",
   "pygments_lexer": "ipython3",
   "version": "3.10.8"
  }
 },
 "nbformat": 4,
 "nbformat_minor": 5
}
