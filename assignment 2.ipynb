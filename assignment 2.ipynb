{
 "cells": [
  {
   "cell_type": "code",
   "execution_count": 7,
   "id": "9748267e-743a-4224-9c34-85d253bcfc4d",
   "metadata": {},
   "outputs": [
    {
     "name": "stdin",
     "output_type": "stream",
     "text": [
      "Enter the percentage 70\n"
     ]
    },
    {
     "name": "stdout",
     "output_type": "stream",
     "text": [
      "C\n"
     ]
    }
   ],
   "source": [
    "#Ques 1\n",
    "per = int(input(\"Enter the percentage\"))\n",
    "if per >90:\n",
    "     print (\"A\")\n",
    "elif per >80 and per <=90:\n",
    "     print (\"B\")\n",
    "elif per >=60 and per<=80:\n",
    "     print (\"C\")\n",
    "else:\n",
    "     print (\"D\")     "
   ]
  },
  {
   "cell_type": "code",
   "execution_count": null,
   "id": "f26d8641-e430-4f42-9bff-84e3302fffcd",
   "metadata": {},
   "outputs": [],
   "source": [
    "#Ques 2\n",
    "cost_price = int(input(\"Enter the cost price :\" ))\n",
    "if cost_price >100000:\n",
    "     print (\"15%\")\n",
    "elif cost_price >50000 and cost_price <=100000:\n",
    "     print (\"10%\")\n",
    "else:\n",
    "    print(\"5%\")"
   ]
  },
  {
   "cell_type": "code",
   "execution_count": null,
   "id": "2ee8304d-252c-444c-9382-dff7a2135688",
   "metadata": {},
   "outputs": [],
   "source": [
    "# Ques 3:\n",
    "city = input(\"Enter a city\")\n",
    "if city ==\"Delhi\":\n",
    "    print(\"Red fort\")\n",
    "elif city== \"Agra\":\n",
    "    print(\"Taj Mahal\")\n",
    "elif city == \"jaipur\":\n",
    "    print(\"jal mahal\")"
   ]
  },
  {
   "cell_type": "code",
   "execution_count": 7,
   "id": "8a2f37f8-3bb4-4d42-a801-f54d52191fe9",
   "metadata": {},
   "outputs": [
    {
     "name": "stdin",
     "output_type": "stream",
     "text": [
      "Enter a number : 33\n"
     ]
    },
    {
     "name": "stdout",
     "output_type": "stream",
     "text": [
      "2\n"
     ]
    }
   ],
   "source": [
    "#QUES 4\n",
    "n = int(input(\"Enter a number :\"))\n",
    "i = 0\n",
    "while n>10:\n",
    "    n = n/3\n",
    "    i+=1\n",
    "print(i)\n"
   ]
  },
  {
   "cell_type": "code",
   "execution_count": 11,
   "id": "9d048f96-8ef5-4f7d-a0ac-e2cc40a57faf",
   "metadata": {},
   "outputs": [
    {
     "name": "stdout",
     "output_type": "stream",
     "text": [
      "hello world\n",
      "hello world\n",
      "hello world\n",
      "hello world\n",
      "hello world\n",
      "hello world\n",
      "hello world\n",
      "hello world\n",
      "hello world\n",
      "hello world\n",
      "hello world\n"
     ]
    }
   ],
   "source": [
    "#QUES 5\n",
    "\"\"\"we use while loop instead of for loop when we do not know\n",
    "how many times the iteration will occur to satisfy our condition\"\"\"\n",
    "low =0\n",
    "high = 10\n",
    "while low<=high:\n",
    "    print(\"hello world\")\n",
    "    low+=1"
   ]
  },
  {
   "cell_type": "code",
   "execution_count": 12,
   "id": "05c3af5d-83b9-4353-86c8-e51c361f90c1",
   "metadata": {},
   "outputs": [
    {
     "name": "stdin",
     "output_type": "stream",
     "text": [
      "Enter number of rows :  10\n"
     ]
    },
    {
     "name": "stdout",
     "output_type": "stream",
     "text": [
      "* \n",
      "* * \n",
      "* * * \n",
      "* * * * \n",
      "* * * * * \n",
      "* * * * * * \n",
      "* * * * * * * \n",
      "* * * * * * * * \n",
      "* * * * * * * * * \n",
      "* * * * * * * * * * \n",
      "\n",
      "\n"
     ]
    },
    {
     "name": "stdin",
     "output_type": "stream",
     "text": [
      "Enter number of rows :  10\n"
     ]
    },
    {
     "name": "stdout",
     "output_type": "stream",
     "text": [
      "* * * * * * * * * * \n",
      "* * * * * * * * * \n",
      "* * * * * * * * \n",
      "* * * * * * * \n",
      "* * * * * * \n",
      "* * * * * \n",
      "* * * * \n",
      "* * * \n",
      "* * \n",
      "* \n",
      "\n",
      "\n"
     ]
    },
    {
     "name": "stdin",
     "output_type": "stream",
     "text": [
      "Enter number of rows :  10\n"
     ]
    },
    {
     "name": "stdout",
     "output_type": "stream",
     "text": [
      "* \n",
      "* * \n",
      "* * * \n",
      "* * * * \n",
      "* * * * * \n",
      "* * * * * * \n",
      "* * * * * * * \n",
      "* * * * * * * * \n",
      "* * * * * * * * * \n",
      "* * * * * * * * * * \n"
     ]
    }
   ],
   "source": [
    "# Ques 6\n",
    "n = int(input('Enter number of rows : '))\n",
    " \n",
    "i = 1\n",
    "while i <= n :\n",
    "    j = 1\n",
    "    while j <= i:\n",
    "        print(\"*\", end = \" \")\n",
    "        j += 1\n",
    "    print()\n",
    "    i += 1\n",
    "\n",
    "print(\"\\n\")\n",
    "    \n",
    "n = int(input('Enter number of rows : '))\n",
    " \n",
    "i = 1\n",
    "while i <= n :\n",
    "    j = n\n",
    "    while j >= i:\n",
    "        print(\"*\", end = \" \")\n",
    "        j -= 1\n",
    "    print()\n",
    "    i += 1\n",
    "    \n",
    "print(\"\\n\")\n",
    "\n",
    "n = int(input('Enter number of rows : '))\n",
    " \n",
    "i = 1\n",
    "while i <= n :\n",
    "    j = 1\n",
    "    while j <= i:\n",
    "        print(\"*\", end = \" \")\n",
    "        j += 1\n",
    "    print()\n",
    "    i += 1"
   ]
  },
  {
   "cell_type": "code",
   "execution_count": 13,
   "id": "5a1e176a-408e-4e16-8406-aba17b3f8917",
   "metadata": {},
   "outputs": [
    {
     "name": "stdout",
     "output_type": "stream",
     "text": [
      "10,9,8,7,6,5,4,3,2,1,\n",
      "\n",
      "10,9,8,7,6,5,4,3,2,1,"
     ]
    }
   ],
   "source": [
    "#QUES 7,8\n",
    "i = 10\n",
    "while i >=1:\n",
    "    print(i,end=\",\")\n",
    "    i-=1\n",
    "print(\"\\n\")\n",
    "for i in range(10,0,-1):\n",
    "    print(i,end=\",\")"
   ]
  }
 ],
 "metadata": {
  "kernelspec": {
   "display_name": "Python 3 (ipykernel)",
   "language": "python",
   "name": "python3"
  },
  "language_info": {
   "codemirror_mode": {
    "name": "ipython",
    "version": 3
   },
   "file_extension": ".py",
   "mimetype": "text/x-python",
   "name": "python",
   "nbconvert_exporter": "python",
   "pygments_lexer": "ipython3",
   "version": "3.10.8"
  }
 },
 "nbformat": 4,
 "nbformat_minor": 5
}
