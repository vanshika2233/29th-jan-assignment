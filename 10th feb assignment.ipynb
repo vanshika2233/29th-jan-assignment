{
 "cells": [
  {
   "cell_type": "markdown",
   "id": "fcc2265c-a747-4f9f-89e9-ca0280df8572",
   "metadata": {},
   "source": [
    "Q1. Which function is used to open a file? What are the different modes of opening a file? Explain each mode\n",
    "of file opening."
   ]
  },
  {
   "cell_type": "markdown",
   "id": "ac9d1c7d-a94d-40e2-85fa-527d503f3d04",
   "metadata": {},
   "source": [
    "ANS : Open function is used to open a file.\n",
    "\n",
    "Different Modes to Open a File in Python\n",
    "\n",
    "r: Open a file for reading. (default)\n",
    "\n",
    "w: Open a file for writing. Creates a new file if it does not exist or truncates the file if it exists.\n",
    "\n",
    "x: Open a file for exclusive creation. If the file already exists, the operation fails.\n",
    "\n",
    "a:Open a file for appending at the end of the file without truncating it. Creates a new file if it does not exist.\n",
    "\n",
    "t:Open in text mode. (default)\n",
    "\n",
    "b:Open in binary mode."
   ]
  },
  {
   "cell_type": "markdown",
   "id": "dc518610-9372-44f6-9ac0-5298d5f7e137",
   "metadata": {},
   "source": [
    "Q2. Why close() function is used? Why is it important to close a file?"
   ]
  },
  {
   "cell_type": "markdown",
   "id": "a964dc8b-a3aa-4083-a915-4f67a598db0d",
   "metadata": {},
   "source": [
    "ANS)When we are done with performing operations on the file, we need to properly close the file.\n",
    "\n",
    "Closing a file will free up the resources that were tied with the file. It is done using the close() method in Python."
   ]
  },
  {
   "cell_type": "markdown",
   "id": "efbed8e7-9d4e-4148-bb3c-a5074727502e",
   "metadata": {},
   "source": [
    "Q3. Write a python program to create a text file. Write ‘I want to become a Data Scientist’ in that file. Then\n",
    "close the file. Open this file and read the content of the file."
   ]
  },
  {
   "cell_type": "code",
   "execution_count": 2,
   "id": "2b554a4b-0259-495e-9107-67e9abea7ea2",
   "metadata": {},
   "outputs": [],
   "source": [
    "file = open(\"text\" , \"w\")\n",
    "file.write(\"I want to become a Data Scientist\")\n",
    "file.close()"
   ]
  },
  {
   "cell_type": "code",
   "execution_count": 3,
   "id": "1766ebf4-ae30-42e4-b415-a522b079dda7",
   "metadata": {},
   "outputs": [],
   "source": [
    "file = open(\"text\")"
   ]
  },
  {
   "cell_type": "code",
   "execution_count": 4,
   "id": "bcb3f0c7-6b7c-4dc9-8de3-2ccdabfa1399",
   "metadata": {},
   "outputs": [
    {
     "data": {
      "text/plain": [
       "'I want to become a Data Scientist'"
      ]
     },
     "execution_count": 4,
     "metadata": {},
     "output_type": "execute_result"
    }
   ],
   "source": [
    "file.read()"
   ]
  },
  {
   "cell_type": "markdown",
   "id": "afcf1ee3-5ad1-4631-821b-e437600ab475",
   "metadata": {},
   "source": [
    "Q4. Explain the following with python code: read(), readline() and readlines()."
   ]
  },
  {
   "cell_type": "markdown",
   "id": "5434d20a-e358-4414-bcfa-00818eec20f2",
   "metadata": {},
   "source": [
    "ANS4:\n",
    "read() reads the entire file and returns a string,\n",
    "\n",
    "readline() reads just one line from a file,\n",
    "\n",
    "readlines() returns a list of strings representing the lines of the file."
   ]
  },
  {
   "cell_type": "markdown",
   "id": "6ceecfb4-c283-4af0-8d80-46275e9b4df4",
   "metadata": {},
   "source": [
    "Q5. Explain why with statement is used with open(). What is the advantage of using with statement and\n",
    "open() together?"
   ]
  },
  {
   "cell_type": "markdown",
   "id": "9a61aeba-e576-4b9d-8344-834efb6cace2",
   "metadata": {},
   "source": [
    "ANS 5) Using with open() context statement makes the code more tidy as we can easily separate between code block by difference in indents and we do not need to close the file. In case of open(), we might miss closing the file instance, this may cause memory leaks and other I/O operation errors."
   ]
  },
  {
   "cell_type": "markdown",
   "id": "5ef9e1a1-db20-4353-bb85-8593c16d7797",
   "metadata": {},
   "source": [
    "Q6. Explain the write() and writelines() functions. Give a suitable example."
   ]
  },
  {
   "cell_type": "markdown",
   "id": "ddb56e3a-6d7a-49d1-b9cb-2e95ec3be299",
   "metadata": {},
   "source": [
    "The write() function will write the content in the file without adding any extra characters\n",
    "Writeline() function writes the content of a list to a file."
   ]
  },
  {
   "cell_type": "code",
   "execution_count": 1,
   "id": "bb35fe29-8eb2-419f-81d6-b2a44e38790e",
   "metadata": {},
   "outputs": [
    {
     "data": {
      "text/plain": [
       "686"
      ]
     },
     "execution_count": 1,
     "metadata": {},
     "output_type": "execute_result"
    }
   ],
   "source": [
    "f = open(\"txt\" , \"w\")\n",
    "f.write(\"I want to become a data scientist Q4. Explain the following with python code: read(), readline() and readlines(). read() reads the entire file and returns a string,readline() reads just one line from a file,readlines() returns a list of strings representing the lines of the file.Q5. Explain why with statement is used with open(). What is the advantage of using with statement and open() together?Using with open() context statement makes the code more tidy as we can easily separate between code block by difference in indents and we do not need to close the file. In case of open(), we might miss closing the file instance, this may cause memory leaks and other I/O operation errors.\")"
   ]
  },
  {
   "cell_type": "code",
   "execution_count": 7,
   "id": "f649c21b-0aff-4800-9467-00264242ee3f",
   "metadata": {},
   "outputs": [
    {
     "name": "stdin",
     "output_type": "stream",
     "text": [
      "Enter line Enter line I want to become a data scientist Q4. Explain the following with python code: read(), readline() and readlines(). read() reads the entire file and returns a string,readline() reads just one line from a file,readlines() returns a list of strings representing the lines of the file.Q5. E\n",
      "Enter line s a string,readline() reads just one line from a file,readlines() returns a list of strings representing the lines of the file.Q5. Explain why with statement is used with open(). What is the advantage of using with statement and open() together?Using with open() context statement makes the code more tidy as we can easily separate between code block by difference in indents and we do not need to close the file. In case of open(), we might miss closing the file instance, this may cause memory leaks and other I/O operation errors.Enter line I want to become a data scientist Q4. Explain the following with python code: read(), readline() and readlines(). read() reads the entire file and returns a string,readline() reads just one line from a file,readlines() returns a list of strings representing the lines of the file.Q5. Explain why with statement is used with open(). What is the advantage of using with statement and open() together?Using with open() context statement makes the code more tidy as we can easily separate between code block by difference in indents and we do not need to close the file. In case of open(), we might miss closing the file instance, this may cause memory leaks and other I/O operation errors.'\n"
     ]
    }
   ],
   "source": [
    "q = open(\"xx\",\"w\")\n",
    "a = []\n",
    "for i in range(1,3):\n",
    "    p = input(\"Enter line\")\n",
    "    a.append(p)\n",
    "q.writelines(a)\n",
    "q.close()"
   ]
  },
  {
   "cell_type": "code",
   "execution_count": 8,
   "id": "9c0d9eef-71b5-4eb5-90fe-f0bf242edb43",
   "metadata": {},
   "outputs": [
    {
     "data": {
      "text/plain": [
       "''"
      ]
     },
     "execution_count": 8,
     "metadata": {},
     "output_type": "execute_result"
    }
   ],
   "source": [
    "file1 = open(\"txt\")\n",
    "file1.read()"
   ]
  },
  {
   "cell_type": "code",
   "execution_count": 9,
   "id": "42bd9d69-d204-4fd1-9d78-d54d553226a1",
   "metadata": {},
   "outputs": [
    {
     "data": {
      "text/plain": [
       "\"Enter line I want to become a data scientist Q4. Explain the following with python code: read(), readline() and readlines(). read() reads the entire file and returns a string,readline() reads just one line from a file,readlines() returns a list of strings representing the lines of the file.Q5. Es a string,readline() reads just one line from a file,readlines() returns a list of strings representing the lines of the file.Q5. Explain why with statement is used with open(). What is the advantage of using with statement and open() together?Using with open() context statement makes the code more tidy as we can easily separate between code block by difference in indents and we do not need to close the file. In case of open(), we might miss closing the file instance, this may cause memory leaks and other I/O operation errors.Enter line I want to become a data scientist Q4. Explain the following with python code: read(), readline() and readlines(). read() reads the entire file and returns a string,readline() reads just one line from a file,readlines() returns a list of strings representing the lines of the file.Q5. Explain why with statement is used with open(). What is the advantage of using with statement and open() together?Using with open() context statement makes the code more tidy as we can easily separate between code block by difference in indents and we do not need to close the file. In case of open(), we might miss closing the file instance, this may cause memory leaks and other I/O operation errors.'\""
      ]
     },
     "execution_count": 9,
     "metadata": {},
     "output_type": "execute_result"
    }
   ],
   "source": [
    "file1 = open(\"xx\")\n",
    "file1.read()"
   ]
  },
  {
   "cell_type": "code",
   "execution_count": null,
   "id": "cacbe289-4307-4972-bd64-c9225456681f",
   "metadata": {},
   "outputs": [],
   "source": []
  }
 ],
 "metadata": {
  "kernelspec": {
   "display_name": "Python 3 (ipykernel)",
   "language": "python",
   "name": "python3"
  },
  "language_info": {
   "codemirror_mode": {
    "name": "ipython",
    "version": 3
   },
   "file_extension": ".py",
   "mimetype": "text/x-python",
   "name": "python",
   "nbconvert_exporter": "python",
   "pygments_lexer": "ipython3",
   "version": "3.10.8"
  }
 },
 "nbformat": 4,
 "nbformat_minor": 5
}
