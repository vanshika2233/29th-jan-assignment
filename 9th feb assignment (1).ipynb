{
 "cells": [
  {
   "cell_type": "markdown",
   "id": "4db248a4-165e-4249-94a4-475c7e471831",
   "metadata": {},
   "source": [
    "Q1, Create a vehicle class with an init method having instance variables as name_of_vehicle, max_speed\n",
    "and average_of_vehicle."
   ]
  },
  {
   "cell_type": "code",
   "execution_count": 6,
   "id": "60518cb3-4df2-491d-b535-9d56e3f46e12",
   "metadata": {},
   "outputs": [],
   "source": [
    "class vehicle:\n",
    "    def __init__(self,name_of_vehicle, max_speed,average_of_vehicle):\n",
    "        self.name_of_vehicle = name_of_vehicle\n",
    "        self.max_speed = max_speed\n",
    "        self.average_of_vehicle = average_of_vehicle"
   ]
  },
  {
   "cell_type": "markdown",
   "id": "cf924a1a-5ec2-4e54-a1f0-b60df7dabcb3",
   "metadata": {},
   "source": [
    "Q2. Create a child class car from the vehicle class created in Que 1, which will inherit the vehicle class.\n",
    "Create a method named seating_capacity which takes capacity as an argument and returns the name of\n",
    "the vehicle and its seating capacity."
   ]
  },
  {
   "cell_type": "code",
   "execution_count": 12,
   "id": "7ab528ad-a34d-4f0d-9338-792b554135ad",
   "metadata": {},
   "outputs": [],
   "source": [
    "class Car(vehicle):\n",
    "    def seating_capacity (self,capacity):\n",
    "        return f\"car name is {self.name_of_vehicle} and seating_capacity is {capacity}\"\n"
   ]
  },
  {
   "cell_type": "code",
   "execution_count": 13,
   "id": "d2739f6f-3b85-4917-9ff7-3b8c1388e157",
   "metadata": {},
   "outputs": [],
   "source": [
    "car1 = Car(\"Innova\",200,10)"
   ]
  },
  {
   "cell_type": "code",
   "execution_count": 14,
   "id": "58c55f98-7f6b-42f7-91e9-0f4fe05c8cde",
   "metadata": {},
   "outputs": [
    {
     "data": {
      "text/plain": [
       "'car name is Innova and seating_capacity is 20'"
      ]
     },
     "execution_count": 14,
     "metadata": {},
     "output_type": "execute_result"
    }
   ],
   "source": [
    "car1.seating_capacity(20)"
   ]
  },
  {
   "cell_type": "markdown",
   "id": "000ac11b-580c-4597-9e0c-ca21d39d9fa8",
   "metadata": {},
   "source": [
    "Q3. What is multiple inheritance? Write a python code to demonstrate multiple inheritance."
   ]
  },
  {
   "cell_type": "markdown",
   "id": "306fa50b-f683-41cf-b5f1-74f8842c6636",
   "metadata": {},
   "source": [
    "ANS : A class can be derived from more than one superclass in Python. This is called multiple inheritance.\n"
   ]
  },
  {
   "cell_type": "code",
   "execution_count": 6,
   "id": "a9265872-04f2-4af5-9856-055882c44f22",
   "metadata": {},
   "outputs": [],
   "source": [
    "class class1:\n",
    "    def c1_msg(self):\n",
    "        return \"Hi i am from class 1\"\n",
    "class class2:\n",
    "    def c2_msg(self):\n",
    "        return \"hi i am from class 2\"\n",
    "class class3(class1 ,class2):\n",
    "    pass\n",
    "\n",
    "obj = class3()"
   ]
  },
  {
   "cell_type": "code",
   "execution_count": 7,
   "id": "d0b5f4ce-0415-493f-a435-8760c1821607",
   "metadata": {},
   "outputs": [
    {
     "data": {
      "text/plain": [
       "'Hi i am from class 1'"
      ]
     },
     "execution_count": 7,
     "metadata": {},
     "output_type": "execute_result"
    }
   ],
   "source": [
    "obj.c1_msg()"
   ]
  },
  {
   "cell_type": "code",
   "execution_count": 8,
   "id": "1d7b9755-af4e-430a-9c02-6999602251bb",
   "metadata": {},
   "outputs": [
    {
     "data": {
      "text/plain": [
       "'hi i am from class 2'"
      ]
     },
     "execution_count": 8,
     "metadata": {},
     "output_type": "execute_result"
    }
   ],
   "source": [
    "obj.c2_msg()"
   ]
  },
  {
   "cell_type": "markdown",
   "id": "281b4ddc-afc8-486d-a455-d0b65d74de2e",
   "metadata": {},
   "source": [
    "Q4. What are getter and setter in python? Create a class and create a getter and a setter method in this\n",
    "class."
   ]
  },
  {
   "cell_type": "markdown",
   "id": "2d92f534-c4e3-4075-adb8-a32f030cf260",
   "metadata": {},
   "source": [
    "ANS)Getters and setters are not the same as those in other object-oriented programming languages. Basically, the main purpose of using getters and setters in object-oriented programs is to ensure data encapsulation. Private variables in python are not actually hidden fields like in other object oriented languages.\n",
    "In OOPs languages, getters and setters are used to retrieve and update data. A getter retrieves an object's current attribute value, whereas a setter changes an object's attribute value. "
   ]
  },
  {
   "cell_type": "code",
   "execution_count": 26,
   "id": "a1637b41-3ddb-4fea-b31e-f9d78e03234c",
   "metadata": {},
   "outputs": [],
   "source": [
    "class Person:\n",
    "    def __init__(self):\n",
    "        self.__age = 0\n",
    "        \n",
    "    def getter_method(self):\n",
    "            return self.__age\n",
    "       \n",
    "    def setter_method(self,age):\n",
    "        self.__age = age\n",
    "        \n",
    "obj = Person()        "
   ]
  },
  {
   "cell_type": "code",
   "execution_count": 27,
   "id": "79364b37-07e5-4229-bc03-585019a3c147",
   "metadata": {},
   "outputs": [],
   "source": [
    "obj.setter_method(100) #calling setter "
   ]
  },
  {
   "cell_type": "code",
   "execution_count": 28,
   "id": "e90a845c-e62c-4190-8180-628a552e026c",
   "metadata": {},
   "outputs": [
    {
     "data": {
      "text/plain": [
       "100"
      ]
     },
     "execution_count": 28,
     "metadata": {},
     "output_type": "execute_result"
    }
   ],
   "source": [
    "obj.getter_method()#calling getter"
   ]
  },
  {
   "cell_type": "markdown",
   "id": "50232b66-37c6-442d-a081-e2e1c38a41fb",
   "metadata": {},
   "source": [
    "Q5.What is method overriding in python? Write a python code to demonstrate method overriding."
   ]
  },
  {
   "cell_type": "markdown",
   "id": "4d70badd-ee1f-4e8c-b52e-65413bcbdabf",
   "metadata": {},
   "source": [
    "ANS) Method overriding is an ability of any object-oriented programming language that allows a subclass or child class to provide a specific implementation of a method that is already provided by one of its super-classes or parent classes. When a method in a subclass has the same name, same parameters or signature and same return type(or sub-type) as a method in its super-class, then the method in the subclass is said to override the method in the super-class. The version of a method that is executed will be determined by the object that is used to invoke it. If an object of a parent class is used to invoke the method, then the version in the parent class will be executed, but if an object of the subclass is used to invoke the method, then the version in the child class will be executed. In other words, it is the type of the object being referred to (not the type of the reference variable) that determines which version of an overridden method will be executed."
   ]
  },
  {
   "cell_type": "code",
   "execution_count": 29,
   "id": "f3936811-7833-4a4e-a5c0-6f7d775592c8",
   "metadata": {},
   "outputs": [
    {
     "data": {
      "text/plain": [
       "('this is invoke of child class', 'this is invoke of parent class')"
      ]
     },
     "execution_count": 29,
     "metadata": {},
     "output_type": "execute_result"
    }
   ],
   "source": [
    "class Parent:\n",
    "    def invoke(self):\n",
    "        return \"this is invoke of parent class\"\n",
    "\n",
    "class Child(Parent):\n",
    "    def invoke(self):\n",
    "        return \"this is invoke of child class\"\n",
    "    \n",
    "child_obj = Child()\n",
    "parent_obj = Parent()\n",
    "\n",
    "child_obj.invoke(),parent_obj.invoke()"
   ]
  }
 ],
 "metadata": {
  "kernelspec": {
   "display_name": "Python 3 (ipykernel)",
   "language": "python",
   "name": "python3"
  },
  "language_info": {
   "codemirror_mode": {
    "name": "ipython",
    "version": 3
   },
   "file_extension": ".py",
   "mimetype": "text/x-python",
   "name": "python",
   "nbconvert_exporter": "python",
   "pygments_lexer": "ipython3",
   "version": "3.10.8"
  }
 },
 "nbformat": 4,
 "nbformat_minor": 5
}
