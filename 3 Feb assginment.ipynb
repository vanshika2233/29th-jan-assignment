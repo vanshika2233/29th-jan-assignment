{
 "cells": [
  {
   "cell_type": "markdown",
   "id": "387fb961-3663-4955-aa70-9c0019faf9e4",
   "metadata": {},
   "source": [
    "Q1. Which keyword is used to create a function? Create a function to return a list of odd numbers in the\n",
    "range of 1 to 25."
   ]
  },
  {
   "cell_type": "code",
   "execution_count": 1,
   "id": "2652d578-3d0e-4bba-989e-a8a617a1a22c",
   "metadata": {},
   "outputs": [
    {
     "data": {
      "text/plain": [
       "[1, 3, 5, 7, 9, 11, 13, 15, 17, 19, 21, 23, 25]"
      ]
     },
     "execution_count": 1,
     "metadata": {},
     "output_type": "execute_result"
    }
   ],
   "source": [
    "# ANS 1\n",
    "# def keyword is used to create a function\n",
    "def odd():\n",
    "        return [i for i in range(1,26) if i%2 !=0]\n",
    "odd()"
   ]
  },
  {
   "cell_type": "markdown",
   "id": "260e091a-81cb-48ad-ba72-198914af7928",
   "metadata": {},
   "source": [
    "Q2. Why args and kwargs is used in some functions? Create a function each for args and **kwargs to demonstrate their use."
   ]
  },
  {
   "cell_type": "markdown",
   "id": "dd21d832-ba5d-4675-aa6c-ef2e1301be69",
   "metadata": {},
   "source": [
    "If we do not know how many arguments that will be passed into our function, we add a * before the parameter name in the function definition. This way the function will receive a tuple of arguments, and can access the items accordingly.\n",
    "\n",
    "If we do not know how many keyword arguments that will be passed into your function, add two asterisk: ** before the parameter name in the function definition.  This way the function will receive a dictionary of arguments, and can access the items accordingly."
   ]
  },
  {
   "cell_type": "code",
   "execution_count": 6,
   "id": "6c11cf0c-850e-4a62-8545-9d579499b5a9",
   "metadata": {},
   "outputs": [
    {
     "name": "stdout",
     "output_type": "stream",
     "text": [
      "Sum: 8\n",
      "Sum: 22\n",
      "Sum: 17\n"
     ]
    }
   ],
   "source": [
    "# ANS 2\n",
    "def adder(*num):\n",
    "    sum = 0\n",
    "    \n",
    "    for n in num:\n",
    "        sum = sum + n\n",
    "\n",
    "    print(\"Sum:\",sum)\n",
    "\n",
    "adder(3,5)\n",
    "adder(4,5,6,7)\n",
    "adder(1,2,3,5,6)\n"
   ]
  },
  {
   "cell_type": "code",
   "execution_count": 3,
   "id": "c3a95214-ef1d-4af4-a686-5a5c570e5ca6",
   "metadata": {},
   "outputs": [
    {
     "name": "stdout",
     "output_type": "stream",
     "text": [
      "Sentence: Kwargs are awesome!\n"
     ]
    }
   ],
   "source": [
    "def makeSentence(**words):\n",
    "    sentence=''\n",
    "    for word in words.values():\n",
    "        sentence+=word\n",
    "    return sentence\n",
    " \n",
    "print('Sentence:', makeSentence(a='Kwargs ',b='are ', c='awesome!'))"
   ]
  },
  {
   "cell_type": "markdown",
   "id": "663cc973-4ea0-4504-9e7f-677fa6f9fd9a",
   "metadata": {},
   "source": [
    "Q3. What is an iterator in python? Name the method used to initialise the iterator object and the method used for iteration. Use these methods to print the first five elements of the given list [2, 4, 6, 8, 10, 12, 14, 16, 18, 20]."
   ]
  },
  {
   "cell_type": "code",
   "execution_count": 4,
   "id": "bc86740c-b6fb-4d43-babf-08f7de1d8342",
   "metadata": {
    "collapsed": true,
    "jupyter": {
     "outputs_hidden": true
    },
    "tags": []
   },
   "outputs": [
    {
     "name": "stdout",
     "output_type": "stream",
     "text": [
      "2\n",
      "4\n",
      "6\n",
      "8\n",
      "10\n"
     ]
    }
   ],
   "source": [
    "# ANS 3\n",
    "#Iterator in Python is an object that is used to iterate over iterable objects like lists, tuples, dicts, and sets. The iterator object is initialized using the iter() method. It uses the next() method for iteration.\n",
    "list = [2, 4, 6, 8, 10, 12, 14, 16, 18, 20]\n",
    "for i in range(0,5):\n",
    "    print(list[i])\n",
    "    "
   ]
  },
  {
   "cell_type": "markdown",
   "id": "e5032d7c-7f28-4ac5-95fe-78dc45ba41a1",
   "metadata": {},
   "source": [
    "Q4. What is a generator function in python? Why yield keyword is used? Give an example of a generator function."
   ]
  },
  {
   "cell_type": "markdown",
   "id": "84493b51-44af-4efe-a5a9-a4a1454de274",
   "metadata": {},
   "source": [
    "ANS 4 In Python, generator functions are those functions that, instead of returning a single value, return an iterable generator object. we can access or read the values returned from the generator function stored inside a generator object one-by-one using a simple loop or using next() or list() methods.\n",
    "\n",
    "The yield keyword will turn any expression that is given with it into a generator object and return it to the caller.yield keyword is used to create a generator function. A type of function that is memory efficient and can be used like an iterator object."
   ]
  },
  {
   "cell_type": "code",
   "execution_count": 1,
   "id": "9fb028e3-73f0-439a-bf30-35d3fba87091",
   "metadata": {},
   "outputs": [
    {
     "name": "stdout",
     "output_type": "stream",
     "text": [
      "<class 'generator'>\n",
      "Hello world!!\n",
      "Data science\n",
      "is awesome\n"
     ]
    }
   ],
   "source": [
    "# ANS 4\n",
    "def fun_generator():\n",
    "    yield \"Hello world!!\"\n",
    "    yield \"Data science\"\n",
    "    yield \"is awesome\"\n",
    " \n",
    " \n",
    "obj = fun_generator()\n",
    " \n",
    "print(type(obj))\n",
    "print(next(obj))\n",
    "print(next(obj))\n",
    "print(next(obj))"
   ]
  },
  {
   "cell_type": "markdown",
   "id": "b33d7650-a54e-4be6-92a1-9cb21ac5adc7",
   "metadata": {},
   "source": [
    "Q5. Create a generator function for prime numbers less than 1000. Use the next() method to print the first 20 prime numbers."
   ]
  },
  {
   "cell_type": "code",
   "execution_count": 7,
   "id": "0792a237-3633-4c59-bcc3-f797f41d6c84",
   "metadata": {},
   "outputs": [
    {
     "name": "stdout",
     "output_type": "stream",
     "text": [
      "2\n",
      "3\n",
      "5\n",
      "7\n",
      "9\n",
      "11\n",
      "13\n",
      "15\n",
      "17\n",
      "19\n",
      "21\n",
      "23\n",
      "25\n",
      "27\n",
      "29\n",
      "31\n",
      "33\n",
      "35\n",
      "37\n",
      "39\n"
     ]
    }
   ],
   "source": [
    "#ANS 5\n",
    "def gprimes():\n",
    "    yield 2\n",
    "    primes = [2]\n",
    "    num = 3\n",
    "\n",
    "    while num < 1000:\n",
    "        for prime in primes:\n",
    "            if prime*prime > num:\n",
    "                primes.append(num)\n",
    "                yield num\n",
    "                break\n",
    "            if num % 2 == 0:\n",
    "                break\n",
    "        num += 2\n",
    "\n",
    "a = gprimes()\n",
    "for i in range(20):\n",
    "    print(next(a))"
   ]
  },
  {
   "cell_type": "markdown",
   "id": "8fa5bf99-f50b-4786-96ac-95a84d5ec886",
   "metadata": {},
   "source": [
    "Q6. Write a python program to print the first 10 Fibonacci numbers using a while loop."
   ]
  },
  {
   "cell_type": "code",
   "execution_count": 8,
   "id": "f21d7a9f-4520-4f46-8e6a-e4226dea8138",
   "metadata": {},
   "outputs": [
    {
     "name": "stdin",
     "output_type": "stream",
     "text": [
      "enter the number 10\n"
     ]
    },
    {
     "name": "stdout",
     "output_type": "stream",
     "text": [
      "0\n",
      "1\n",
      "1\n",
      "2\n",
      "3\n",
      "5\n",
      "8\n",
      "13\n",
      "21\n",
      "34\n"
     ]
    }
   ],
   "source": [
    "#ANS 6\n",
    "number = int(input(\"enter the number\"))\n",
    "a , b = 0 , 1\n",
    "counter = 0\n",
    "while counter < number :\n",
    "    print(a)\n",
    "    c = a+ b\n",
    "    a = b\n",
    "    b = c\n",
    "    counter = counter+ 1"
   ]
  },
  {
   "cell_type": "markdown",
   "id": "7feb420f-1e06-4f09-a5db-f4d5540a9d5e",
   "metadata": {},
   "source": [
    "Q7. Write a List Comprehension to iterate through the given string: ‘pwskills’.\n",
    "Expected output: ['p', 'w', 's', 'k', 'i', 'l', 'l', 's']"
   ]
  },
  {
   "cell_type": "code",
   "execution_count": 7,
   "id": "594821c0-67b3-4365-87b0-275107fb8233",
   "metadata": {},
   "outputs": [
    {
     "data": {
      "text/plain": [
       "['p', 'w', 's', 'k', 'i', 'l', 'l', 's']"
      ]
     },
     "execution_count": 7,
     "metadata": {},
     "output_type": "execute_result"
    }
   ],
   "source": [
    "# ANS 7\n",
    "str = \"pwskills\"\n",
    "[i for i in str]"
   ]
  },
  {
   "cell_type": "markdown",
   "id": "0a7a48f5-f2b4-44a0-844f-aa1890455362",
   "metadata": {},
   "source": [
    "Q8. Write a python program to check whether a given number is Palindrome or not using a while loop."
   ]
  },
  {
   "cell_type": "code",
   "execution_count": 4,
   "id": "1badcdef-e202-4660-87d1-ab94bdbbcac9",
   "metadata": {},
   "outputs": [
    {
     "name": "stdin",
     "output_type": "stream",
     "text": [
      "Enter the number 2\n"
     ]
    },
    {
     "name": "stdout",
     "output_type": "stream",
     "text": [
      "Pallindrom\n"
     ]
    }
   ],
   "source": [
    "# ANS 8\n",
    "num = input(\"Enter the number\")\n",
    "if num == num[::-1]:\n",
    "    print(\"Pallindrom\")\n",
    "else:\n",
    "    print(\"Not pallindrom\")"
   ]
  },
  {
   "cell_type": "markdown",
   "id": "7a5b4882-f159-42cf-9f81-af8f73863e03",
   "metadata": {},
   "source": [
    "Q9. Write a code to print odd numbers from 1 to 100 using list comprehension."
   ]
  },
  {
   "cell_type": "code",
   "execution_count": 5,
   "id": "91a132f6-dfaf-43d9-b5a0-2eddcf82968c",
   "metadata": {},
   "outputs": [
    {
     "data": {
      "text/plain": [
       "[1,\n",
       " 3,\n",
       " 5,\n",
       " 7,\n",
       " 9,\n",
       " 11,\n",
       " 13,\n",
       " 15,\n",
       " 17,\n",
       " 19,\n",
       " 21,\n",
       " 23,\n",
       " 25,\n",
       " 27,\n",
       " 29,\n",
       " 31,\n",
       " 33,\n",
       " 35,\n",
       " 37,\n",
       " 39,\n",
       " 41,\n",
       " 43,\n",
       " 45,\n",
       " 47,\n",
       " 49,\n",
       " 51,\n",
       " 53,\n",
       " 55,\n",
       " 57,\n",
       " 59,\n",
       " 61,\n",
       " 63,\n",
       " 65,\n",
       " 67,\n",
       " 69,\n",
       " 71,\n",
       " 73,\n",
       " 75,\n",
       " 77,\n",
       " 79,\n",
       " 81,\n",
       " 83,\n",
       " 85,\n",
       " 87,\n",
       " 89,\n",
       " 91,\n",
       " 93,\n",
       " 95,\n",
       " 97,\n",
       " 99]"
      ]
     },
     "execution_count": 5,
     "metadata": {},
     "output_type": "execute_result"
    }
   ],
   "source": [
    "3 ans \n",
    "[i for i in range(1,100) if i%2!=0]"
   ]
  }
 ],
 "metadata": {
  "kernelspec": {
   "display_name": "Python 3 (ipykernel)",
   "language": "python",
   "name": "python3"
  },
  "language_info": {
   "codemirror_mode": {
    "name": "ipython",
    "version": 3
   },
   "file_extension": ".py",
   "mimetype": "text/x-python",
   "name": "python",
   "nbconvert_exporter": "python",
   "pygments_lexer": "ipython3",
   "version": "3.10.8"
  }
 },
 "nbformat": 4,
 "nbformat_minor": 5
}
