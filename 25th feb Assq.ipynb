{
 "cells": [
  {
   "cell_type": "code",
   "execution_count": 1,
   "id": "a8255da4-298d-4018-8e1a-fb8698cbcd27",
   "metadata": {},
   "outputs": [],
   "source": [
    "#Consider following code to answer further questions:\n",
    "import pandas as pd\n",
    "course_name = ['Data Science', 'Machine Learning', 'Big Data', 'Data Engineer']\n",
    "duration = [2,3,6,4]\n",
    "df = pd.DataFrame(data = {'course_name' : course_name, 'duration' : duration})"
   ]
  },
  {
   "cell_type": "markdown",
   "id": "a92d6bb9-9b41-4c97-b6a6-b7a26dae4fe8",
   "metadata": {},
   "source": [
    "Q1. Write a code to print the data present in the second row of the dataframe, df."
   ]
  },
  {
   "cell_type": "code",
   "execution_count": 2,
   "id": "e98f1eba-b6de-4581-ade6-d8a6aa860a55",
   "metadata": {},
   "outputs": [
    {
     "data": {
      "text/html": [
       "<div>\n",
       "<style scoped>\n",
       "    .dataframe tbody tr th:only-of-type {\n",
       "        vertical-align: middle;\n",
       "    }\n",
       "\n",
       "    .dataframe tbody tr th {\n",
       "        vertical-align: top;\n",
       "    }\n",
       "\n",
       "    .dataframe thead th {\n",
       "        text-align: right;\n",
       "    }\n",
       "</style>\n",
       "<table border=\"1\" class=\"dataframe\">\n",
       "  <thead>\n",
       "    <tr style=\"text-align: right;\">\n",
       "      <th></th>\n",
       "      <th>course_name</th>\n",
       "      <th>duration</th>\n",
       "    </tr>\n",
       "  </thead>\n",
       "  <tbody>\n",
       "    <tr>\n",
       "      <th>2</th>\n",
       "      <td>Big Data</td>\n",
       "      <td>6</td>\n",
       "    </tr>\n",
       "  </tbody>\n",
       "</table>\n",
       "</div>"
      ],
      "text/plain": [
       "  course_name  duration\n",
       "2    Big Data         6"
      ]
     },
     "execution_count": 2,
     "metadata": {},
     "output_type": "execute_result"
    }
   ],
   "source": [
    "df.loc[2:2]"
   ]
  },
  {
   "cell_type": "markdown",
   "id": "e7b075b7-cc92-418a-bb5f-7bc2e2873f33",
   "metadata": {},
   "source": [
    "Q2. What is the difference between the functions loc and iloc in pandas.DataFrame?"
   ]
  },
  {
   "cell_type": "markdown",
   "id": "89817cea-1a69-4719-a68e-41b60a8f2f3b",
   "metadata": {},
   "source": [
    "loc is typically used for label indexing and can access multiple columns.\n",
    "iloc is used for integer indexing."
   ]
  },
  {
   "cell_type": "markdown",
   "id": "9d741b1e-f1f8-4c3d-b4cd-303b51727d8b",
   "metadata": {},
   "source": [
    "Q3. Reindex the given dataframe using a variable, reindex = [3,0,1,2] and store it in the variable, new_df\n",
    "then find the output for both new_df.loc[2] and new_df.iloc[2]."
   ]
  },
  {
   "cell_type": "code",
   "execution_count": 3,
   "id": "77b36cfb-8a1c-4993-9e71-e464f8f9ae1a",
   "metadata": {},
   "outputs": [
    {
     "data": {
      "text/html": [
       "<div>\n",
       "<style scoped>\n",
       "    .dataframe tbody tr th:only-of-type {\n",
       "        vertical-align: middle;\n",
       "    }\n",
       "\n",
       "    .dataframe tbody tr th {\n",
       "        vertical-align: top;\n",
       "    }\n",
       "\n",
       "    .dataframe thead th {\n",
       "        text-align: right;\n",
       "    }\n",
       "</style>\n",
       "<table border=\"1\" class=\"dataframe\">\n",
       "  <thead>\n",
       "    <tr style=\"text-align: right;\">\n",
       "      <th></th>\n",
       "      <th>course_name</th>\n",
       "      <th>duration</th>\n",
       "    </tr>\n",
       "  </thead>\n",
       "  <tbody>\n",
       "    <tr>\n",
       "      <th>3</th>\n",
       "      <td>Data Engineer</td>\n",
       "      <td>4</td>\n",
       "    </tr>\n",
       "    <tr>\n",
       "      <th>0</th>\n",
       "      <td>Data Science</td>\n",
       "      <td>2</td>\n",
       "    </tr>\n",
       "    <tr>\n",
       "      <th>1</th>\n",
       "      <td>Machine Learning</td>\n",
       "      <td>3</td>\n",
       "    </tr>\n",
       "    <tr>\n",
       "      <th>2</th>\n",
       "      <td>Big Data</td>\n",
       "      <td>6</td>\n",
       "    </tr>\n",
       "  </tbody>\n",
       "</table>\n",
       "</div>"
      ],
      "text/plain": [
       "        course_name  duration\n",
       "3     Data Engineer         4\n",
       "0      Data Science         2\n",
       "1  Machine Learning         3\n",
       "2          Big Data         6"
      ]
     },
     "execution_count": 3,
     "metadata": {},
     "output_type": "execute_result"
    }
   ],
   "source": [
    "new_df = df.reindex([3,0,1,2])\n",
    "new_df"
   ]
  },
  {
   "cell_type": "code",
   "execution_count": 4,
   "id": "8c799c71-5ecd-4dc5-8437-72154f9ef6f2",
   "metadata": {},
   "outputs": [
    {
     "name": "stdout",
     "output_type": "stream",
     "text": [
      "course_name    Big Data\n",
      "duration              6\n",
      "Name: 2, dtype: object\n",
      "course_name    Machine Learning\n",
      "duration                      3\n",
      "Name: 1, dtype: object\n"
     ]
    }
   ],
   "source": [
    "print(new_df.loc[2])\n",
    "print(new_df.iloc[2])"
   ]
  },
  {
   "cell_type": "markdown",
   "id": "98208d6c-6c1e-47e5-b0f1-77a5b95e58ca",
   "metadata": {},
   "source": [
    "new_df.loc[2] took the modified index to return the output.\n",
    "\n",
    "new_df.iloc[2] took the python inbuilt index to give the output."
   ]
  },
  {
   "cell_type": "markdown",
   "id": "6bb1e097-1c21-479c-88bd-5ec06c230d44",
   "metadata": {},
   "source": [
    "Q4. Write a code to find the following statistical measurements for the above dataframe df1:\n",
    "(i) mean of each and every column present in the dataframe.\n",
    "(ii) standard deviation of column, ‘column_2’"
   ]
  },
  {
   "cell_type": "code",
   "execution_count": 5,
   "id": "a49a5f26-07d1-47b9-ac38-d5396d9c0fd0",
   "metadata": {},
   "outputs": [],
   "source": [
    "import pandas as pd\n",
    "import numpy as np\n",
    "columns = ['column_1', 'column_2', 'column_3', 'column_4', 'column_5', 'column_6']\n",
    "indices = [1,2,3,4,5,6]\n",
    "#Creating a dataframe:\n",
    "df1 = pd.DataFrame(np.random.rand(6,6), columns = columns, index = indices)"
   ]
  },
  {
   "cell_type": "code",
   "execution_count": 6,
   "id": "02e84400-fb2b-4e88-b278-eddd044d2ba3",
   "metadata": {},
   "outputs": [
    {
     "data": {
      "text/html": [
       "<div>\n",
       "<style scoped>\n",
       "    .dataframe tbody tr th:only-of-type {\n",
       "        vertical-align: middle;\n",
       "    }\n",
       "\n",
       "    .dataframe tbody tr th {\n",
       "        vertical-align: top;\n",
       "    }\n",
       "\n",
       "    .dataframe thead th {\n",
       "        text-align: right;\n",
       "    }\n",
       "</style>\n",
       "<table border=\"1\" class=\"dataframe\">\n",
       "  <thead>\n",
       "    <tr style=\"text-align: right;\">\n",
       "      <th></th>\n",
       "      <th>column_1</th>\n",
       "      <th>column_2</th>\n",
       "      <th>column_3</th>\n",
       "      <th>column_4</th>\n",
       "      <th>column_5</th>\n",
       "      <th>column_6</th>\n",
       "    </tr>\n",
       "  </thead>\n",
       "  <tbody>\n",
       "    <tr>\n",
       "      <th>1</th>\n",
       "      <td>0.699873</td>\n",
       "      <td>0.287969</td>\n",
       "      <td>0.995421</td>\n",
       "      <td>0.151785</td>\n",
       "      <td>0.713798</td>\n",
       "      <td>0.698247</td>\n",
       "    </tr>\n",
       "    <tr>\n",
       "      <th>2</th>\n",
       "      <td>0.553916</td>\n",
       "      <td>0.432263</td>\n",
       "      <td>0.857291</td>\n",
       "      <td>0.398861</td>\n",
       "      <td>0.692149</td>\n",
       "      <td>0.807568</td>\n",
       "    </tr>\n",
       "    <tr>\n",
       "      <th>3</th>\n",
       "      <td>0.084231</td>\n",
       "      <td>0.143502</td>\n",
       "      <td>0.084905</td>\n",
       "      <td>0.806814</td>\n",
       "      <td>0.689380</td>\n",
       "      <td>0.666353</td>\n",
       "    </tr>\n",
       "    <tr>\n",
       "      <th>4</th>\n",
       "      <td>0.319341</td>\n",
       "      <td>0.794157</td>\n",
       "      <td>0.531902</td>\n",
       "      <td>0.548368</td>\n",
       "      <td>0.657826</td>\n",
       "      <td>0.650118</td>\n",
       "    </tr>\n",
       "    <tr>\n",
       "      <th>5</th>\n",
       "      <td>0.403360</td>\n",
       "      <td>0.797975</td>\n",
       "      <td>0.670814</td>\n",
       "      <td>0.678747</td>\n",
       "      <td>0.592139</td>\n",
       "      <td>0.348991</td>\n",
       "    </tr>\n",
       "    <tr>\n",
       "      <th>6</th>\n",
       "      <td>0.724527</td>\n",
       "      <td>0.161112</td>\n",
       "      <td>0.908480</td>\n",
       "      <td>0.893456</td>\n",
       "      <td>0.655532</td>\n",
       "      <td>0.877696</td>\n",
       "    </tr>\n",
       "  </tbody>\n",
       "</table>\n",
       "</div>"
      ],
      "text/plain": [
       "   column_1  column_2  column_3  column_4  column_5  column_6\n",
       "1  0.699873  0.287969  0.995421  0.151785  0.713798  0.698247\n",
       "2  0.553916  0.432263  0.857291  0.398861  0.692149  0.807568\n",
       "3  0.084231  0.143502  0.084905  0.806814  0.689380  0.666353\n",
       "4  0.319341  0.794157  0.531902  0.548368  0.657826  0.650118\n",
       "5  0.403360  0.797975  0.670814  0.678747  0.592139  0.348991\n",
       "6  0.724527  0.161112  0.908480  0.893456  0.655532  0.877696"
      ]
     },
     "execution_count": 6,
     "metadata": {},
     "output_type": "execute_result"
    }
   ],
   "source": [
    "df1"
   ]
  },
  {
   "cell_type": "code",
   "execution_count": 7,
   "id": "473356ed-ef0c-4076-8c9d-bce856652388",
   "metadata": {},
   "outputs": [
    {
     "data": {
      "text/plain": [
       "column_1    0.464208\n",
       "column_2    0.436163\n",
       "column_3    0.674802\n",
       "column_4    0.579672\n",
       "column_5    0.666804\n",
       "column_6    0.674829\n",
       "dtype: float64"
      ]
     },
     "execution_count": 7,
     "metadata": {},
     "output_type": "execute_result"
    }
   ],
   "source": [
    "df1.mean()"
   ]
  },
  {
   "cell_type": "code",
   "execution_count": 8,
   "id": "4bd70942-38ae-4809-9f43-f0da45087a20",
   "metadata": {},
   "outputs": [
    {
     "data": {
      "text/plain": [
       "0.29743844325655944"
      ]
     },
     "execution_count": 8,
     "metadata": {},
     "output_type": "execute_result"
    }
   ],
   "source": [
    "df1['column_2'].std()"
   ]
  },
  {
   "cell_type": "markdown",
   "id": "9cbc45af-df01-4a08-8e81-8e9b700bd304",
   "metadata": {},
   "source": [
    "Q5. Replace the data present in the second row of column, ‘column_2’ by a string variable then find the\n",
    "mean of column, column_2.\n",
    "If you are getting errors in executing it then explain why.\n",
    "[Hint: To replace the data use df1.loc[] and equate this to string data of your choice.]"
   ]
  },
  {
   "cell_type": "code",
   "execution_count": 9,
   "id": "18f4cd76-b6b5-4310-a1e3-c93f43cc4c1d",
   "metadata": {},
   "outputs": [],
   "source": [
    "df1.loc[2,['column_2']] = \"Vanshika\""
   ]
  },
  {
   "cell_type": "markdown",
   "id": "25fd3aa7-eead-4977-b0e9-7af387458eef",
   "metadata": {},
   "source": [
    "Q6. What do you understand about the windows function in pandas and list the types of windows\n",
    "functions?"
   ]
  },
  {
   "cell_type": "markdown",
   "id": "6f471175-82eb-4f60-9d82-7c8603dc6ae7",
   "metadata": {},
   "source": [
    "Window functions allow us to perform an operation with a given row’s data and data from another row that is a specified number of rows away — this “number of rows away value” is called the window.\n",
    "\n",
    "Python Windows Function Types\n",
    "\n",
    "1)AGGREGATE : avg(),max(),min(),sum(),count()\n",
    "\n",
    "2)RANKING :row_number(),rank(),dense_rank(),percent_rank(),ntitle()\n",
    "\n",
    "3)VALUE :lag(),lead(),first_value(),last_value(),nth_value()\n"
   ]
  },
  {
   "cell_type": "markdown",
   "id": "8dbe8952-71d4-4e39-9625-a9a4ce58eb0d",
   "metadata": {},
   "source": [
    "Q7. Write a code to print only the current month and year at the time of answering this question.\n",
    "[Hint: Use pandas.datetime function]"
   ]
  },
  {
   "cell_type": "code",
   "execution_count": 12,
   "id": "1047b3a3-66eb-4114-ac64-732bbedc7d4f",
   "metadata": {},
   "outputs": [
    {
     "name": "stdout",
     "output_type": "stream",
     "text": [
      "   Month  Year\n",
      "0      4  2023\n"
     ]
    }
   ],
   "source": [
    "import pandas as pd\n",
    "from datetime import datetime\n",
    "\n",
    "# Get the current date and time\n",
    "now = datetime.now()\n",
    "\n",
    "# Extract the month and year\n",
    "current_month = now.month\n",
    "current_year = now.year\n",
    "\n",
    "# Create a DataFrame with the current month and year\n",
    "df = pd.DataFrame({'Month': [current_month], 'Year': [current_year]})\n",
    "\n",
    "# Print the DataFrame\n",
    "print(df)\n"
   ]
  },
  {
   "cell_type": "markdown",
   "id": "0d16ef03-fa97-465f-9d5b-ccb155fd1967",
   "metadata": {},
   "source": [
    "Q8. Write a Python program that takes in two dates as input (in the format YYYY-MM-DD) and\n",
    "calculates the difference between them in days, hours, and minutes using Pandas time delta. The\n",
    "program should prompt the user to enter the dates and display the result.\n",
    "Did you observe any difference in both the outputs? If so then explain it.\n",
    "Consider the below code to answer further questions:\n",
    "import pandas as pd\n",
    "import numpy as np\n",
    "columns = ['column_1', 'column_2', 'column_3', 'column_4', 'column_5', 'column_6']\n",
    "indices = [1,2,3,4,5,6]\n",
    "#Creating a dataframe:\n",
    "df1 = pd.DataFrame(np.random.rand(6,6), columns = columns, index = indices)"
   ]
  },
  {
   "cell_type": "code",
   "execution_count": null,
   "id": "42729601-0ad7-448b-9f28-533505aec743",
   "metadata": {},
   "outputs": [],
   "source": [
    "import pandas as pd\n",
    "\n",
    "# Prompt user to enter two dates in YYYY-MM-DD format\n",
    "date1 = input(\"Enter the first date (YYYY-MM-DD): \")\n",
    "date2 = input(\"Enter the second date (YYYY-MM-DD): \")\n",
    "\n",
    "# Convert input strings to datetime objects\n",
    "date1 = pd.to_datetime(date1)\n",
    "date2 = pd.to_datetime(date2)\n",
    "\n",
    "# Calculate the time difference\n",
    "time_difference = date2 - date1\n",
    "\n",
    "# Extract days, hours, and minutes from the time difference\n",
    "days = time_difference.days\n",
    "hours = time_difference.seconds // 3600\n",
    "minutes = (time_difference.seconds % 3600) // 60\n",
    "\n",
    "# Display the result\n",
    "print(f\"Time difference: {days} days, {hours} hours, {minutes} minutes\")\n"
   ]
  },
  {
   "cell_type": "markdown",
   "id": "4879d02f-deec-46b6-a1b2-44d6ba820d98",
   "metadata": {},
   "source": [
    "Q9. Write a Python program that reads a CSV file containing categorical data and converts a specified column to a categorical data type. The program should prompt the user to enter the file path, column name, and category order, and then display the sorted data."
   ]
  },
  {
   "cell_type": "code",
   "execution_count": null,
   "id": "347aee2c-bf81-4c34-98c8-211687644409",
   "metadata": {},
   "outputs": [],
   "source": [
    "import pandas as pd\n",
    "\n",
    "# Prompt user to enter file path\n",
    "file_path = input(\"Enter the file path of the CSV file: \")\n",
    "\n",
    "# Read CSV file into a DataFrame\n",
    "df = pd.read_csv(file_path)\n",
    "\n",
    "# Prompt user to enter column name\n",
    "column_name = input(\"Enter the column name to be converted to categorical data type: \")\n",
    "\n",
    "# Prompt user to enter category order\n",
    "category_order = input(\"Enter the category order (comma-separated): \")\n",
    "\n",
    "# Convert category order to list\n",
    "category_order = category_order.split(',')\n",
    "\n",
    "# Convert specified column to categorical data type\n",
    "df[column_name] = pd.Categorical(df[column_name], categories=category_order, ordered=True)\n",
    "\n",
    "# Sort the data by the categorical column\n",
    "df = df.sort_values(by=column_name)\n",
    "\n",
    "# Display the sorted data\n",
    "print(\"Sorted Data:\")\n",
    "print(df)\n"
   ]
  },
  {
   "cell_type": "markdown",
   "id": "61669dbf-02f3-4e7f-b18b-6977556566c2",
   "metadata": {},
   "source": [
    "Q10. Write a Python program that reads a CSV file containing sales data for different products and visualizes the data using a stacked bar chart to show the sales of each product category over time. The program should prompt the user to enter the file path and display the chart."
   ]
  },
  {
   "cell_type": "code",
   "execution_count": 15,
   "id": "e22fc4f8-3cc0-4777-bffc-7e0a9dda743d",
   "metadata": {},
   "outputs": [
    {
     "data": {
      "text/plain": [
       "<AxesSubplot: >"
      ]
     },
     "execution_count": 15,
     "metadata": {},
     "output_type": "execute_result"
    },
    {
     "data": {
      "image/png": "[encoded data removed]",
      "text/plain": [
       "<Figure size 640x480 with 1 Axes>"
      ]
     },
     "metadata": {},
     "output_type": "display_data"
    }
   ],
   "source": [
    "data = {\"products\": [1,2,3,4,5],\"Sales\":[2,4,6,8,10]}\n",
    "df1 = pd.DataFrame(data)\n",
    "df1.plot.bar()"
   ]
  },
  {
   "cell_type": "markdown",
   "id": "d84ebe77-7675-4313-8374-282af7f775df",
   "metadata": {},
   "source": [
    "\n",
    "Q11. You are given a CSV file containing student data that includes the student ID and their test score. Write a Python program that reads the CSV file, calculates the mean, median, and mode of the test scores, and displays the results in a table.\n",
    "\n",
    "The program should do the followingM\n",
    "\n",
    "I Prompt the user to enter the file path of the CSV file containing the student dataR\n",
    "\n",
    "I Read the CSV file into a Pandas DataFrameR\n",
    "\n",
    "I Calculate the mean, median, and mode of the test scores using Pandas toolsR\n",
    "\n",
    "I Display the mean, median, and mode in a table.\n",
    "\n",
    "Assume the CSV file contains the following columnsM\n",
    "\n",
    "I Student ID: The ID of the studentR\n",
    "\n",
    "I Test Score: The score of the student's test.\n",
    "\n",
    "Example usage of the program:\n",
    "\n",
    "Enter the file path of the CSV file containing the student data: student_data.csv\n",
    "\n",
    "+-----------+--------+\n",
    "\n",
    "| Statistic | Value |\n",
    "\n",
    "+-----------+--------+\n",
    "\n",
    "| Mean | 79.6 |\n",
    "\n",
    "| Median | 82 |\n",
    "\n",
    "| Mode | 85, 90 |\n",
    "\n",
    "Assume that the CSV file student_data.csv contains the following data:\n",
    "\n",
    "Student ID,Test Score\n",
    "\n",
    "1,85\n",
    "\n",
    "2,90\n",
    "\n",
    "3,80\n",
    "\n",
    "4,75\n",
    "\n",
    "5,85\n",
    "\n",
    "6,82\n",
    "\n",
    "7,78\n",
    "\n",
    "8,85\n",
    "\n",
    "9,90\n",
    "\n",
    "10,85\n",
    "\n",
    "The program should calculate the mean, median, and mode of the test scores and display the results in a table."
   ]
  },
  {
   "cell_type": "markdown",
   "id": "a851a98c-6622-4245-a832-5c760ee2b7be",
   "metadata": {},
   "source": [
    "\n",
    "Q11. You are given a CSV file containing student data that includes the student ID and their test score. Write a Python program that reads the CSV file, calculates the mean, median, and mode of the test scores, and displays the results in a table.\n",
    "\n",
    "The program should do the followingM\n",
    "\n",
    "I Prompt the user to enter the file path of the CSV file containing the student dataR\n",
    "\n",
    "I Read the CSV file into a Pandas DataFrameR\n",
    "\n",
    "I Calculate the mean, median, and mode of the test scores using Pandas toolsR\n",
    "\n",
    "I Display the mean, median, and mode in a table.\n",
    "\n",
    "Assume the CSV file contains the following columnsM\n",
    "\n",
    "I Student ID: The ID of the studentR\n",
    "\n",
    "I Test Score: The score of the student's test.\n",
    "\n",
    "Example usage of the program:\n",
    "\n",
    "Enter the file path of the CSV file containing the student data: student_data.csv\n",
    "\n",
    "+-----------+--------+\n",
    "\n",
    "| Statistic | Value |\n",
    "\n",
    "+-----------+--------+\n",
    "\n",
    "| Mean | 79.6 |\n",
    "\n",
    "| Median | 82 |\n",
    "\n",
    "| Mode | 85, 90 |\n",
    "\n",
    "Assume that the CSV file student_data.csv contains the following data:\n",
    "\n",
    "Student ID,Test Score\n",
    "\n",
    "1,85\n",
    "\n",
    "2,90\n",
    "\n",
    "3,80\n",
    "\n",
    "4,75\n",
    "\n",
    "5,85\n",
    "\n",
    "6,82\n",
    "\n",
    "7,78\n",
    "\n",
    "8,85\n",
    "\n",
    "9,90\n",
    "\n",
    "10,85\n",
    "\n",
    "The program should calculate the mean, median, and mode of the test scores and display the results in a table."
   ]
  },
  {
   "cell_type": "code",
   "execution_count": null,
   "id": "610e02da-7102-4b89-9936-6989d66b6b0f",
   "metadata": {},
   "outputs": [],
   "source": [
    "import pandas as pd\n",
    "\n",
    "# Read CSV file into a DataFrame\n",
    "df = pd.read_csv('student_data.csv')\n",
    "\n",
    "# Calculate mean, median, and mode of test scores\n",
    "mean = df['Test Score'].mean()\n",
    "median = df['Test Score'].median()\n",
    "mode = df['Test Score'].mode().values[0]  # mode returns a Series, we extract the first value\n",
    "\n",
    "# Create a table to display the results\n",
    "result_table = pd.DataFrame({'Statistic': ['Mean', 'Median', 'Mode'],\n",
    "                             'Value': [mean, median, mode]})\n",
    "\n",
    "# Display the result table\n",
    "print(result_table)\n"
   ]
  }
 ],
 "metadata": {
  "kernelspec": {
   "display_name": "Python 3 (ipykernel)",
   "language": "python",
   "name": "python3"
  },
  "language_info": {
   "codemirror_mode": {
    "name": "ipython",
    "version": 3
   },
   "file_extension": ".py",
   "mimetype": "text/x-python",
   "name": "python",
   "nbconvert_exporter": "python",
   "pygments_lexer": "ipython3",
   "version": "3.10.8"
  }
 },
 "nbformat": 4,
 "nbformat_minor": 5
}
