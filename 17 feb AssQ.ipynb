{
 "cells": [
  {
   "cell_type": "markdown",
   "id": "4e11c2ae-1a42-4287-94e8-f073cfdbdf79",
   "metadata": {},
   "source": [
    "Q1. What is MongoDB? Explain non-relational databases in short. In which scenarios it is preferred to use\n",
    "MongoDB over SQL databases?"
   ]
  },
  {
   "cell_type": "markdown",
   "id": "9f2b9197-76de-4b91-8915-62eb9681494d",
   "metadata": {},
   "source": [
    "MongoDB, the most popular NoSQL database, is an open-source document-oriented database. The term ‘NoSQL’ means ‘non-relational’. It means that MongoDB isn’t based on the table-like relational database structure but provides an altogether different mechanism for storage and retrieval of data. This format of storage is called BSON ( similar to JSON format). \n",
    "\n",
    "A non-relational database is a database that does not use the tabular schema of rows and columns found in most traditional database systems. Instead, non-relational databases use a storage model that is optimized for the specific requirements of the type of data being stored.\n",
    "\n",
    "Organizations of all sizes are adopting MongoDB, especially as a cloud database, because it enables them to build applications faster, handle highly diverse data types, and manage applications more efficiently at scale.\n",
    "\n",
    "MongoDB is a database that is more advanced and capable of handling big data with dynamic schema features. SQL Server is an RDBMS that is used to manage the relational database system and offers end-to-end business data solutions. In the case of unstructured data MongoDB is a good choice."
   ]
  },
  {
   "cell_type": "markdown",
   "id": "705840e6-4995-45bd-b6a7-cd523f1de82d",
   "metadata": {},
   "source": [
    "Q2. State and Explain the features of MongoDB."
   ]
  },
  {
   "cell_type": "markdown",
   "id": "ec4129f6-4d0b-4482-91a6-6ee1c293d8a6",
   "metadata": {},
   "source": [
    "1.Support ad hoc queries\n",
    "In MongoDB, you can search by field, range query and it also supports regular expression searches.\n",
    "\n",
    "2.Indexing\n",
    "You can index any field in a document.\n",
    "\n",
    "3.Replication\n",
    "MongoDB supports Master Slave replication.\n",
    "A master can perform Reads and Writes and a Slave copies data from the master and can only be used for reads or back up (not writes)\n",
    "\n",
    "4.Duplication of data\n",
    "MongoDB can run over multiple servers. The data is duplicated to keep the system up and also keep its running condition in case of hardware failure.\n",
    "\n",
    "5.Load balancing\n",
    "It has an automatic load balancing configuration because of data placed in shards.\n",
    "\n",
    "6.Supports map reduce and aggregation tools.\n",
    "\n",
    "7.Uses JavaScript instead of Procedures.\n",
    "\n",
    "8.It is a schema-less database written in C++.\n",
    "\n",
    "9.Provides high performance.\n",
    "\n",
    "10.Stores files of any size easily without complicating your stack.\n",
    "\n",
    "AD\n",
    "\n",
    "11.Easy to administer in the case of failures.\n",
    "\n",
    "12.It also supports:\n",
    "\n",
    "JSON data model with dynamic schemas Auto-sharding for horizontal scal"
   ]
  },
  {
   "cell_type": "markdown",
   "id": "23be002b-da20-4015-9984-633d28b5aa84",
   "metadata": {},
   "source": [
    "Q3. Write a code to connect MongoDB to Python. Also, create a database and a collection in MongoDB."
   ]
  },
  {
   "cell_type": "code",
   "execution_count": null,
   "id": "a48c19e6-9d92-4b3c-aa9b-32b77d4342e1",
   "metadata": {},
   "outputs": [],
   "source": [
    "ANS 3)\n",
    "\n",
    "import pymongo\n",
    "\n",
    "# Connect to the MongoDB server\n",
    "client = pymongo.MongoClient(\"mongodb+srv://pwskills:<password>@cluster0.nls0hjn.mongodb.net/?retryWrites=true&w=majorit\")\n",
    "\n",
    "# Create a new database called \"mydatabase\"\n",
    "mydb = client[\"mydatabase\"]\n",
    "\n",
    "# Create a new collection called \"customers\"\n",
    "mycol = mydb[\"students_details\"]\n",
    "\n",
    "# Insert a new document into the \"customers\" collection\n",
    "mydict = { \"name\": \"Steven Doe\", \"address\": \"123 Main St\", \"age\": 20 , \"class\" : 12 }\n",
    "x = mycol.insert_one(mydict)\n",
    "\n",
    "# Print the ID of the newly inserted document\n",
    "print(x.inserted_id)"
   ]
  },
  {
   "cell_type": "markdown",
   "id": "f2e3f868-5001-4c9c-b641-4563c4c8a5af",
   "metadata": {},
   "source": [
    "Q4. Using the database and the collection created in question number 3, write a code to insert one record,\n",
    "and insert many records. Use the find() and find_one() methods to print the inserted record."
   ]
  },
  {
   "cell_type": "code",
   "execution_count": null,
   "id": "d5490773-411e-49bf-9768-f2190c11b00c",
   "metadata": {},
   "outputs": [],
   "source": [
    "ANS 4)\n",
    "\n",
    "import pymongo\n",
    "\n",
    "# Connect to the MongoDB server\n",
    "client = pymongo.MongoClient(\"mongodb://localhost:27017/\")\n",
    "\n",
    "# Select the \"mydatabase\" database and \"customers\" collection\n",
    "mydb = client[\"mydatabase\"]\n",
    "mycol = mydb[\"students_details\"]\n",
    "\n",
    "# Insert one record into the \"customers\" collection\n",
    "mydict = { \"name\": \"Henry Smith\", \"address\": \"456 Main St\", \"age\": 17 \"class\" : 10 }\n",
    "x = mycol.insert_one(mydict)\n",
    "print(\"Inserted record ID:\", x.inserted_id)\n",
    "\n",
    "# Insert many records into the \"customers\" collection\n",
    "mylist = [\n",
    "  { \"name\": \"Bob Smith\", \"address\": \"789 Main St\", \"age\": 18 \"class\" : 10},\n",
    "  { \"name\": \"Alice Johnson\", \"address\": \"321 Main St\", \"age\": 20 \"class\" : 11 },\n",
    "  { \"name\": \"Tom Wilson\", \"address\": \"555 Elm St\", \"age\": 19 \"class\" : 11 }\n",
    "]\n",
    "x = mycol.insert_many(mylist)\n",
    "print(\"Inserted records IDs:\", x.inserted_ids)\n",
    "\n",
    "# Find one record in the \"customers\" collection\n",
    "result = mycol.find_one({ \"name\": \"Jane Doe\" })\n",
    "print(\"Found one record:\", result)\n",
    "\n",
    "# Find all records in the \"customers\" collection\n",
    "results = mycol.find()\n",
    "print(\"Found all records:\")\n",
    "for result in results:\n",
    "    print(result)"
   ]
  },
  {
   "cell_type": "markdown",
   "id": "780da9ce-cced-4e23-9c5d-698a7ba9cc66",
   "metadata": {},
   "source": [
    "Q5. Explain how you can use the find() method to query the MongoDB database. Write a simple code to\n",
    "demonstrate this."
   ]
  },
  {
   "cell_type": "code",
   "execution_count": null,
   "id": "8057730b-70a6-4988-bf7b-5eda97d1edea",
   "metadata": {},
   "outputs": [],
   "source": [
    "ANS 5)\n",
    "\n",
    "The find() method is a way to query a MongoDB database collection to retrieve documents that match certain criteria. It allows you to search for documents in a collection based on specific conditions and can return multiple documents that match the criteria.\n",
    "\n",
    "import pymongo\n",
    "\n",
    "# establish a connection to the MongoDB server\n",
    "client = pymongo.MongoClient(\"mongodb://localhost:27017/\")\n",
    "\n",
    "# get a reference to the database\n",
    "db = client[\"mydatabase\"]\n",
    "\n",
    "# get a reference to the collection\n",
    "my_collection = db[\"mycollection\"]\n",
    "\n",
    "# find documents in the collection that match a specific condition\n",
    "query = {\"name\": \"John\"}\n",
    "\n",
    "result = my_collection.find(query)\n",
    "\n",
    "for document in result:\n",
    "    print(document)\n",
    "\n",
    "we establish a connection to the MongoDB server, get a reference to a database called \"mydatabase\", and get a reference to a collection called \"mycollecti"
   ]
  },
  {
   "cell_type": "markdown",
   "id": "930b62ab-51d4-47a0-b09f-c08174ce9dca",
   "metadata": {},
   "source": [
    "Q6. Explain the sort() method. Give an example to demonstrate sorting in MongoDB."
   ]
  },
  {
   "cell_type": "code",
   "execution_count": null,
   "id": "0734e9ad-1329-439d-bd4b-b1cbd380e416",
   "metadata": {},
   "outputs": [],
   "source": [
    "ANS 6)\n",
    "\n",
    "The sort() method in MongoDB is used to sort the documents returned by a find() query in ascending or descending order based on one or more fields. The sort() method takes one or more field names and a sort order (-1 for descending, 1 for ascending) as arguments.\n",
    "\n",
    "Suppose we have a collection named \"users\" that contains documents representing users, each with a \"name\" field and an \"age\" field:\n",
    "\n",
    "{\n",
    "  \"_id\": ObjectId(\"614c5f0e81faab406ce90001\"),\n",
    "  \"name\": \"John\",\n",
    "  \"age\": 30\n",
    "}\n",
    "{\n",
    "  \"_id\": ObjectId(\"614c5f1b81faab406ce90002\"),\n",
    "  \"name\": \"Alice\",\n",
    "  \"age\": 25\n",
    "}\n",
    "{\n",
    "  \"_id\": ObjectId(\"614c5f2581faab406ce90003\"),\n",
    "  \"name\": \"Bob\",\n",
    "  \"age\": 35\n",
    "}\n",
    "\n",
    "To sort the documents in the \"users\" collection by age in ascending order, we can use the sort() method like this:\n",
    "\n",
    "import pymongo\n",
    "\n",
    "# establish a connection to the MongoDB server\n",
    "client = pymongo.MongoClient(\"mongodb://localhost:27017/\")\n",
    "\n",
    "# get a reference to the database\n",
    "db = client[\"mydatabase\"]\n",
    "\n",
    "# get a reference to the collection\n",
    "users = db[\"users\"]\n",
    "\n",
    "# find all documents in the collection and sort by age in ascending order\n",
    "result = users.find().sort(\"age\", 1)\n",
    "\n",
    "for document in result:\n",
    "    print(document)\n",
    "\n",
    "The output will be:\n",
    "    \n",
    "    {\n",
    "  \"_id\": ObjectId(\"614c5f1b81faab406ce90002\"),\n",
    "  \"name\": \"Alice\",\n",
    "  \"age\": 25\n",
    "}\n",
    "{\n",
    "  \"_id\": ObjectId(\"614c5f0e81faab406ce90001\"),\n",
    "  \"name\": \"John\",\n",
    "  \"age\": 30\n",
    "}\n",
    "{\n",
    "  \"_id\": ObjectId(\"614c5f2581faab406ce90003\"),\n",
    "  \"name\": \"Bob\",\n",
    "  \"age\": 35\n",
    "}\n",
    " \n"
   ]
  },
  {
   "cell_type": "markdown",
   "id": "db6b44df-4a8a-44f2-94a3-818aa32497f7",
   "metadata": {},
   "source": [
    "Q7. Explain why delete_one(), delete_many(), and drop() is used."
   ]
  },
  {
   "cell_type": "markdown",
   "id": "1ab7df6c-6979-461f-ab06-0bc07ec26078",
   "metadata": {},
   "source": [
    "1.collection_.delete_one() : deletes the single document matching the filter\n",
    "eg:\n",
    "collection_.delete_one({\"name\" : \"Satya\"})\n",
    "\n",
    "2.collection_.delete_many() : delete one or more document matching the filter\n",
    "eg:\n",
    "collection_.delete_many({\"name\": \"Pwskills\"})\n",
    "\n",
    "3.collection_.drop() : use to drop/delete the collection\n",
    "eg:\n",
    "collection_.drop() #deletes the database\n",
    "\n"
   ]
  },
  {
   "cell_type": "code",
   "execution_count": null,
   "id": "acc5a7de-a071-45c1-8643-dd65026a8065",
   "metadata": {},
   "outputs": [],
   "source": []
  }
 ],
 "metadata": {
  "kernelspec": {
   "display_name": "Python 3 (ipykernel)",
   "language": "python",
   "name": "python3"
  },
  "language_info": {
   "codemirror_mode": {
    "name": "ipython",
    "version": 3
   },
   "file_extension": ".py",
   "mimetype": "text/x-python",
   "name": "python",
   "nbconvert_exporter": "python",
   "pygments_lexer": "ipython3",
   "version": "3.10.8"
  }
 },
 "nbformat": 4,
 "nbformat_minor": 5
}
