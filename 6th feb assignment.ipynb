{
 "cells": [
  {
   "cell_type": "markdown",
   "id": "dab0ae71-ea6d-4286-966b-2bcf40b11e2c",
   "metadata": {},
   "source": [
    "Q1. Create a function which will take a list as an argument and return the product of all the numbers\n",
    "after creating a flat list.\n",
    "Use the below-given list as an argument for your function.\n",
    "list1 = [1,2,3,4, [44,55,66, True], False, (34,56,78,89,34), {1,2,3,3,2,1}, {1:34, \"key2\": [55, 67, 78, 89], 4: (45,\n",
    "22, 61, 34)}, [56, 'data science'], 'Machine Learning']\n",
    "Note: you must extract numeric keys and values of the dictionary also."
   ]
  },
  {
   "cell_type": "code",
   "execution_count": 9,
   "id": "772a8f41-0a7a-4698-8173-ce8639f18202",
   "metadata": {},
   "outputs": [
    {
     "name": "stdout",
     "output_type": "stream",
     "text": [
      "96469280776028160\n"
     ]
    }
   ],
   "source": [
    "# ANS 1\n",
    "def prod_list(lst):\n",
    "    flat_list = []\n",
    "\n",
    "    \n",
    "    for i in lst:\n",
    "\n",
    "   \n",
    "        if type(i) == list or type(i) == tuple or type(i) == set or type(i) == dict:\n",
    "        \n",
    "            for j in i:\n",
    "            \n",
    "                if type(j) == int or type(j) == float:\n",
    "                    flat_list.append(j)\n",
    "                elif type(j) == dict:\n",
    "                    for k, v in j.items():\n",
    "                        if type(v) == int or type(v) == float:\n",
    "                            flat_list.append(v)\n",
    "\n",
    "                        elif type(j) == list or type(j) == tuple:\n",
    "                            for k in j:\n",
    "                                if type(k) == int or type(k) == float:\n",
    "                                    flat_list.append(k)\n",
    "    else:\n",
    "        if type(i) == int or type(i) == float:\n",
    "            flat_list.append(i)\n",
    "\n",
    "\n",
    "    return (flat_list)\n",
    "\n",
    "def product(l):\n",
    "    pro = 1\n",
    "    for i in l:\n",
    "        pro = pro * i\n",
    "    return pro\n",
    "    \n",
    "\n",
    "list1 = [1,2,3,4, [44,55,66, True], False, (34,56,78,89,34), {1,2,3,3,2,1}, {1:34, \"key2\": [55, 67, 78, 89], 4: (45,22, 61, 34)}, [56, 'data science'], 'Machine Learning']\n",
    "product_list = prod_list(list1)\n",
    "print(product(product_list))"
   ]
  },
  {
   "cell_type": "markdown",
   "id": "d8d71ca7-cd90-4eec-bac1-195a30d17669",
   "metadata": {},
   "source": [
    "Q2. Write a python program for encrypting a message sent to you by your friend. The logic of encryption\n",
    "should be such that, for a the output should be z. For b, the output should be y. For c, the output should\n",
    "be x respectively. Also, the whitespace should be replaced with a dollar sign. Keep the punctuation\n",
    "marks unchanged.\n",
    "Input Sentence: I want to become a Data Scientist.\n",
    "Encrypt the above input sentence using the program you just created.\n",
    "Note: Convert the given input sentence into lowercase before encrypting. The final output should be\n",
    "lowercase."
   ]
  },
  {
   "cell_type": "code",
   "execution_count": 8,
   "id": "8bc840fd-0036-4094-b096-4c13961366c8",
   "metadata": {},
   "outputs": [
    {
     "name": "stdout",
     "output_type": "stream",
     "text": [
      "r$dzmg$gl$yvxlnv$z$wzgz$hxrvmgrhg\n"
     ]
    }
   ],
   "source": [
    "#ANS 2\n",
    "\n",
    "#Lowercase the input sentence\n",
    "input_sentence = 'I want to become a Data Scientist'.lower()\n",
    "\n",
    "#Create an empty string to store the encrypted message\n",
    "encrypted_message = \"\"\n",
    "\n",
    "#Loop through each character in the input sentence\n",
    "for character in input_sentence:\n",
    "\n",
    "  #If character is a space, replace it with a dollar sign\n",
    "  if character == \" \":\n",
    "    encrypted_message += \"$\"\n",
    "\n",
    "  #If character is an alphabet, encrypt it using the logic provided\n",
    "  elif character.isalpha():\n",
    "    encrypted_message += chr(ord('z') - ord(character) + ord('a'))\n",
    "\n",
    "  #If character is a punctuation mark, keep it as it is\n",
    "  else:\n",
    "    encrypted_message += character\n",
    "\n",
    "#Print the encrypted message\n",
    "print(encrypted_message)"
   ]
  },
  {
   "cell_type": "code",
   "execution_count": null,
   "id": "1393e8d4-dd5d-47c9-a100-b9c43b96946f",
   "metadata": {},
   "outputs": [],
   "source": []
  }
 ],
 "metadata": {
  "kernelspec": {
   "display_name": "Python 3 (ipykernel)",
   "language": "python",
   "name": "python3"
  },
  "language_info": {
   "codemirror_mode": {
    "name": "ipython",
    "version": 3
   },
   "file_extension": ".py",
   "mimetype": "text/x-python",
   "name": "python",
   "nbconvert_exporter": "python",
   "pygments_lexer": "ipython3",
   "version": "3.10.8"
  }
 },
 "nbformat": 4,
 "nbformat_minor": 5
}
