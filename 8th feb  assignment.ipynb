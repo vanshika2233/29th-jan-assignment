{
 "cells": [
  {
   "cell_type": "markdown",
   "id": "fea18baf-8043-43db-a773-44dac404d610",
   "metadata": {},
   "source": [
    "Q1. What is Abstraction in OOps? Explain with an example."
   ]
  },
  {
   "cell_type": "markdown",
   "id": "92c3972c-f4a8-4907-acc4-bf387ee081dc",
   "metadata": {},
   "source": [
    "ANS1\n",
    "The main purpose of abstraction is hiding the unnecessary details from the users. Abstraction is selecting data from a larger pool to show only relevant details of the object to the user. It helps in reducing programming complexity and efforts. It is one of the most important concepts of OOPs.\n",
    "\n",
    "Data Abstraction in Python can be achieved through creating abstract classes."
   ]
  },
  {
   "cell_type": "code",
   "execution_count": 3,
   "id": "8874648a-9f68-4081-8bdd-22136f248331",
   "metadata": {},
   "outputs": [
    {
     "name": "stdout",
     "output_type": "stream",
     "text": [
      "The mileage is 30kmph\n",
      "The mileage is 25kmph \n"
     ]
    }
   ],
   "source": [
    "from abc import ABC, abstractmethod   \n",
    "class Car(ABC):   \n",
    "    def mileage(self):   \n",
    "        pass  \n",
    "  \n",
    "class Tesla(Car):   \n",
    "    def mileage(self):   \n",
    "        print(\"The mileage is 30kmph\")   \n",
    "class Suzuki(Car):   \n",
    "    def mileage(self):   \n",
    "        print(\"The mileage is 25kmph \")   \n",
    "\n",
    "t= Tesla ()   \n",
    "t.mileage()   \n",
    "s = Suzuki()   \n",
    "s.mileage()   "
   ]
  },
  {
   "cell_type": "markdown",
   "id": "90ce71ae-6f03-40dd-ae4e-7308ccb3061c",
   "metadata": {},
   "source": [
    "Q2. Differentiate between Abstraction and Encapsulation. Explain with an example."
   ]
  },
  {
   "cell_type": "markdown",
   "id": "4bc1170b-8b7c-4366-8e1b-349b6439c6fe",
   "metadata": {},
   "source": [
    " ANS2\n",
    "Encapsulation is a protective shield that prevents the data from being accessed by the code outside this shield. Technically in encapsulation, the variables or data of a class is hidden from any other class and can be accessed only through any member function of its own class in which they are declared.\n",
    "\n",
    "Data Abstraction is the property by virtue of which only the essential details are displayed to the user. The trivial or the non-essential units are not displayed to the user.\n",
    "\n",
    "Eg: if you see a car ,abstraction means seeing a car from outside but encapsulation means how the machineries are wrapped up into the car"
   ]
  },
  {
   "cell_type": "markdown",
   "id": "e15c7ade-f0f2-4ade-9c90-8843db414f7f",
   "metadata": {},
   "source": [
    "Q3. What is abc module in python? Why is it used?"
   ]
  },
  {
   "cell_type": "markdown",
   "id": "f3e30281-447c-4a6a-968b-1df1c78dc327",
   "metadata": {},
   "source": [
    "ANS 3\n",
    "Abstract base classes provide a way to define interfaces when other techniques like hasattr() would be clumsy or subtly wrong (for example with magic methods). ABCs introduce virtual subclasses, which are classes that don’t inherit from a class but are still recognized by isinstance() and issubclass() functions. There are many built-in ABCs in Python. ABCs for Data structures like Iterator, Generator, Set, mapping etc. are defined in collections.abc module. The numbers module defines numeric tower which is a collection of base classes for numeric data types. The 'abc' module in Python library provides the infrastructure for defining custom abstract base classes.\n",
    "\n",
    "'abc' works by marking methods of the base class as abstract. This is done by @absttractmethod decorator. A concrete class which is a sub class of such abstract base class then implements the abstract base by overriding its abstract methods.\n",
    "\n",
    "The abc module defines ABCMeta class which is a metaclass for defining abstract base class. Following example defines Shape class as an abstract base class using ABCMeta. The shape class has area() method decorated by abstractmethod.\n",
    "\n",
    "A Rectangle class now uses above Shape class as its parent and implementing the abstract area() method. Since it is a concrete class, it can be instantiated and imlemented area() method can be called."
   ]
  },
  {
   "cell_type": "code",
   "execution_count": 4,
   "id": "5344036b-fd8c-453c-b5b8-b7187e4b4374",
   "metadata": {},
   "outputs": [
    {
     "data": {
      "text/plain": [
       "(25, None)"
      ]
     },
     "execution_count": 4,
     "metadata": {},
     "output_type": "execute_result"
    }
   ],
   "source": [
    "from abc import ABC,abstractmethod\n",
    "class Shape(ABC):\n",
    "    @abstractmethod\n",
    "    def area(self):pass\n",
    "    \n",
    "    def perimeter(self):pass\n",
    "\n",
    "class square(Shape):\n",
    "    def __init__(self,side):\n",
    "        self.__side = side\n",
    "    \n",
    "    def area(self):\n",
    "        return self.__side **2\n",
    "\n",
    "squares = square(5)\n",
    "\n",
    "squares.area(),squares.perimeter()"
   ]
  },
  {
   "cell_type": "markdown",
   "id": "98a22eb8-6cd7-4c46-be20-9686a58383c9",
   "metadata": {},
   "source": [
    "Q4. How can we achieve data abstraction?"
   ]
  },
  {
   "cell_type": "markdown",
   "id": "af578ca5-dc08-4d55-89e0-a2a41553881c",
   "metadata": {},
   "source": [
    "ANS 5\n",
    "1 :Understanding Abstract Methods and Classes.\n",
    "2 :Understanding Working program."
   ]
  },
  {
   "cell_type": "markdown",
   "id": "ebe282fd-4a73-4bf1-b061-26bf7b758eb8",
   "metadata": {},
   "source": [
    "Q5. Can we create an instance of an abstract class? Explain your answer."
   ]
  },
  {
   "cell_type": "markdown",
   "id": "00b80594-af43-4a98-a117-b6fc8a8c583c",
   "metadata": {},
   "source": [
    "ANS 5\n",
    "An abstract class is not a concrete class, it cannot be instantiated. When we create an object for the abstract class it raises an error."
   ]
  }
 ],
 "metadata": {
  "kernelspec": {
   "display_name": "Python 3 (ipykernel)",
   "language": "python",
   "name": "python3"
  },
  "language_info": {
   "codemirror_mode": {
    "name": "ipython",
    "version": 3
   },
   "file_extension": ".py",
   "mimetype": "text/x-python",
   "name": "python",
   "nbconvert_exporter": "python",
   "pygments_lexer": "ipython3",
   "version": "3.10.8"
  }
 },
 "nbformat": 4,
 "nbformat_minor": 5
}
