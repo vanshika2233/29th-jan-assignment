{
 "cells": [
  {
   "cell_type": "markdown",
   "id": "d70e3070-d229-42f5-ae78-a16bcae4bc8b",
   "metadata": {},
   "source": [
    "Q1. What is Web Scraping? Why is it Used? Give three areas where Web Scraping is used to get data."
   ]
  },
  {
   "cell_type": "markdown",
   "id": "a1f1f213-f0a0-4f6b-9138-6b13e98da091",
   "metadata": {},
   "source": [
    "ANS1:\n",
    "Web scraping is an automatic method to obtain large amounts of data from websites.\n",
    "Most of this data is unstructured data in an HTML format which is then converted into structured data in a spreadsheet or a database so that it can be used in various applications. \n",
    "There are many different ways to perform web scraping to obtain data from websites. \n",
    "These include using online services, particular API’s or even creating your code for web scraping from scratch. \n",
    "Many large websites, like Google, Twitter, Facebook, StackOverflow, etc. have API’s that allow you to access their data in a structured format.\n",
    "\n",
    "1 . We can use web scrapping over crypto prices predicting sites\n",
    "\n",
    "2 . we can use to check live cricket score by scrapping\n",
    "\n",
    "3 . If we want information about products review over any commercial product selling wesites\n",
    "\n",
    "Web Scraping has multiple applications across various industries\n",
    "\n",
    "1. Price Monitoring:\n",
    "Web Scraping can be used by companies to scrap the product data for their products and competing products as well to see how it impacts their pricing strategies. Companies can use this data to fix the optimal pricing for their products so that they can obtain maximum revenue.\n",
    "\n",
    "2. Market Research:\n",
    "Web scraping can be used for market research by companies. High-quality web scraped data obtained in large volumes can be very helpful for companies in analyzing consumer trends and understanding which direction the company should move in the future.\n",
    "\n",
    "3. News Monitoring:\n",
    "Web scraping news sites can provide detailed reports on the current news to a company. This is even more essential for companies that are frequently in the news or that depend on daily news for their day-to-day functioning. After all, news reports can make or break a company in a single day!\n",
    "\n",
    "4. Sentiment Analysis:\n",
    "If companies want to understand the general sentiment for their products among their consumers, then Sentiment Analysis is a must. Companies can use web scraping to collect data from social media websites such as Facebook and Twitter as to what the general sentiment about their products is. This will help them in creating products that people desire and moving ahead of their competition.\n",
    "\n",
    "5. Email Marketing:\n",
    "Companies can also use Web scraping for email marketing. They can collect Email ID’s from various sites using web scraping and then send bulk promotional and marketing Emails to all the people owning these Email ID’s."
   ]
  },
  {
   "cell_type": "markdown",
   "id": "275bcb8c-e4fd-45ae-aeb9-ea1fbb78ae03",
   "metadata": {},
   "source": [
    "Q2. What are the different methods used for Web Scraping?"
   ]
  },
  {
   "cell_type": "markdown",
   "id": "9db5c70a-ae8f-4af4-8b20-687dbb4fab46",
   "metadata": {},
   "source": [
    "ANS2:\n",
    "Browser extensions Web Scrapers\n",
    "\n",
    "Cloud Web Scrapers\n",
    "\n",
    "Self-built Web Scrapers"
   ]
  },
  {
   "cell_type": "markdown",
   "id": "358b91c8-52e9-40df-92c0-48d57e03b584",
   "metadata": {},
   "source": [
    "Q3. What is Beautiful Soup? Why is it used?"
   ]
  },
  {
   "cell_type": "markdown",
   "id": "ee5847a1-9f28-48ff-9fc9-1e67f7878207",
   "metadata": {},
   "source": [
    "ANS 3:\n",
    "Beautiful soup is a Python library that is highly suitable for Web Scraping. It creates a parse tree that can be used to extract data from HTML on a website. Beautiful soup also has multiple features for navigation, searching, and modifying these parse trees.It transforms a complex HTML document into a tree of Python objects. It also automatically converts the document to Unicode, so you don't have to think about encoding."
   ]
  },
  {
   "cell_type": "markdown",
   "id": "f07e944d-4d4a-4b01-bc57-45c39e12c6d8",
   "metadata": {},
   "source": [
    "Q4. Why is flask used in this Web Scraping project?"
   ]
  },
  {
   "cell_type": "markdown",
   "id": "e4d6857c-34e0-4950-b676-cac5caf21b4d",
   "metadata": {},
   "source": [
    "ANS 4:\n",
    "Flask is used to create the REST API for the project web scrapping. Flask is a lightweight framework to build websites. We'll use this to parse our collected data and display it as HTML in a new HTML file. The requests module allows us to send http requests to the website we want to scrape."
   ]
  },
  {
   "cell_type": "markdown",
   "id": "5c82022b-3bef-4787-b770-a9866fa68781",
   "metadata": {},
   "source": [
    "Q5. Write the names of AWS services used in this project. Also, explain the use of each service."
   ]
  },
  {
   "cell_type": "markdown",
   "id": "40502c21-0907-4277-9260-293d10d3bfdc",
   "metadata": {},
   "source": [
    "ANS 5 :\n",
    "We used AWS pipeline and beanstck services for deployment\n",
    "\n",
    "1 : AWS pipeline : It connects the github repo of project to beanstack.\n",
    "\n",
    "2: Beanstack : it provide environment like a system having RAM,Secondry memory,Processors to execute the application got from pipeline and return the result."
   ]
  }
 ],
 "metadata": {
  "kernelspec": {
   "display_name": "Python 3 (ipykernel)",
   "language": "python",
   "name": "python3"
  },
  "language_info": {
   "codemirror_mode": {
    "name": "ipython",
    "version": 3
   },
   "file_extension": ".py",
   "mimetype": "text/x-python",
   "name": "python",
   "nbconvert_exporter": "python",
   "pygments_lexer": "ipython3",
   "version": "3.10.8"
  }
 },
 "nbformat": 4,
 "nbformat_minor": 5
}
