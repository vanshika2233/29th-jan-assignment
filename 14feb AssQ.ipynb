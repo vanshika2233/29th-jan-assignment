{
 "cells": [
  {
   "cell_type": "markdown",
   "id": "c957ac2b-9d8c-4b79-ae12-3c55343b4053",
   "metadata": {},
   "source": [
    "Q1.What is multithreading in python? hy is it used? Name the module used to handle threads in python"
   ]
  },
  {
   "cell_type": "markdown",
   "id": "4cb8154c-75d3-44f7-8762-e66f5882319f",
   "metadata": {},
   "source": [
    "A1.Multithreading is a threading technique in Python programming to run multiple threads concurrently by rapidly switching between threads with a CPU help (called context switching). Multithreading aims to perform multiple tasks simultaneously, which increases performance, speed and improves the rendering of the application.\n",
    "\n",
    "\n",
    "It is a very useful technique for time-saving and improving the performance of an application. Multithreading allows the programmer to divide application tasks into sub-tasks and simultaneously run them in a program. It allows threads to communicate and share resources such as files, data, and memory to the same processor. Furthermore, it increases the user's responsiveness to continue running a program even if a part of the application is the length or blocked.\n",
    "\n",
    "\n",
    "There are two main modules of multithreading used to handle threads in Python.\n",
    "\n",
    "The thread module\n",
    "The threading module"
   ]
  },
  {
   "cell_type": "markdown",
   "id": "756d4e9c-323c-48bd-b992-c3735ff10fd3",
   "metadata": {},
   "source": [
    "Q2. why threading module used? Write the use of the following functions\n",
    "1.activeCount()\n",
    "2.currentThread()\n",
    "3.enumerate()"
   ]
  },
  {
   "cell_type": "markdown",
   "id": "4802cfa2-86bb-41c0-b4a3-5b38346b4e50",
   "metadata": {},
   "source": [
    "A2.The threading module exposes all the methods of the thread module and provides some additional methods −\n",
    "1.threading.activeCount() − Returns the number of thread objects that are active.\n",
    "2.threading.currentThread() − Returns the number of thread objects in the caller's thread control.\n",
    "3.threading.enumerate() − Returns a list of all thread objects that are currently active"
   ]
  },
  {
   "cell_type": "markdown",
   "id": "4226cfd4-4f9f-4ca0-b61d-5c061a7237e5",
   "metadata": {},
   "source": [
    "3.Explain the following functions\n",
    "1.run()\n",
    "2.start()\n",
    "3.join()\n",
    "4.isAlive()"
   ]
  },
  {
   "cell_type": "markdown",
   "id": "ab53e8dd-9f91-49d7-8812-a15df0380611",
   "metadata": {},
   "source": [
    "A3. the threading module has the Thread class that implements threading. The methods provided by the Thread class are as follows −\n",
    "\n",
    "run()  − The run() method is the entry point for a thread.\n",
    "start()  − The start() method starts a thread by calling the run method.\n",
    "join()  − The join() waits for threads to terminate.\n",
    "isAlive()  − The isAlive() method checks whether a thread is still executing."
   ]
  },
  {
   "cell_type": "markdown",
   "id": "b70b54e4-dec0-41ca-8602-69ab73406006",
   "metadata": {},
   "source": [
    "4.Write a python program to create two threads. Thread one must print the list of squares and thread\n",
    "two must print the list of cubes"
   ]
  },
  {
   "cell_type": "code",
   "execution_count": 2,
   "id": "2b3b0a17-94f7-4329-a1cc-d423bee2d9ea",
   "metadata": {},
   "outputs": [
    {
     "name": "stdout",
     "output_type": "stream",
     "text": [
      "List of squares:\n",
      "1\n",
      "4\n",
      "9\n",
      "16\n",
      "25\n",
      "36\n",
      "49\n",
      "64\n",
      "81\n",
      "100\n",
      "List of cubes:\n",
      "1\n",
      "8\n",
      "27\n",
      "64\n",
      "125\n",
      "216\n",
      "343\n",
      "512\n",
      "729\n",
      "1000\n",
      "Done.\n"
     ]
    }
   ],
   "source": [
    "import threading\n",
    "\n",
    "def print_squares():\n",
    "    squares = [x * x for x in range(1, 11)]\n",
    "    print(\"List of squares:\")\n",
    "    for square in squares:\n",
    "        print(square)\n",
    "\n",
    "def print_cubes():\n",
    "    cubes = [x * x * x for x in range(1, 11)]\n",
    "    print(\"List of cubes:\")\n",
    "    for cube in cubes:\n",
    "        print(cube)\n",
    "\n",
    "t1 = threading.Thread(target=print_squares)\n",
    "t2 = threading.Thread(target=print_cubes)\n",
    "t1.start()\n",
    "t2.start()\n",
    "\n",
    "t1.join()\n",
    "t2.join()\n",
    "\n",
    "print(\"Done.\")"
   ]
  },
  {
   "cell_type": "markdown",
   "id": "0299b2ce-a280-4bf3-9661-4e195cc5ab5c",
   "metadata": {},
   "source": [
    "Q5. State advantages and disadvantages of multithreading"
   ]
  },
  {
   "cell_type": "markdown",
   "id": "e662cc67-3510-40ee-8d2e-f6dc02a50bdc",
   "metadata": {},
   "source": [
    "Advantages :\n",
    "\n",
    "1: Enhanced performance by decreased development time\n",
    "\n",
    "2: Simplified and streamlined program coding\n",
    "\n",
    "3: Improvised GUI responsiveness\n",
    "\n",
    "4: Simultaneous and parallelized occurrence of tasks\n",
    "\n",
    "5: Better use of cache storage by utilization of resources\n",
    "\n",
    "6: Decreased cost of maintenance\n",
    "\n",
    "7: Better use of CPU resource\n",
    "\n",
    "Disadvantages :\n",
    "\n",
    "1: Complex debugging and testing processes\n",
    "\n",
    "2: Overhead switching of context\n",
    "\n",
    "3: Increased potential for deadlock occurrence\n",
    "\n",
    "4: Increased difficulty level in writing a program\n",
    "\n",
    "5: Unpredictable resultsAdvantages :\n",
    "\n",
    "1: Enhanced performance by decreased development time\n",
    "\n",
    "2: Simplified and streamlined program coding\n",
    "\n",
    "3: Improvised GUI responsiveness\n",
    "\n",
    "4: Simultaneous and parallelized occurrence of tasks\n",
    "\n",
    "5: Better use of cache storage by utilization of resources\n",
    "\n",
    "6: Decreased cost of maintenance\n",
    "\n",
    "7: Better use of CPU resource\n",
    "\n",
    "Disadvantages :\n",
    "\n",
    "1: Complex debugging and testing processes\n",
    "\n",
    "2: Overhead switching of context\n",
    "\n",
    "3: Increased potential for deadlock occurrence\n",
    "\n",
    "4: Increased difficulty level in writing a program\n",
    "\n",
    "5: Unpredictable results"
   ]
  },
  {
   "cell_type": "markdown",
   "id": "934bd5ee-585c-4fa4-9fb2-cb71dce0b63d",
   "metadata": {},
   "source": [
    "Q6. Explain deadlocks and race conditions."
   ]
  },
  {
   "cell_type": "markdown",
   "id": "6e992991-56fe-46fc-9b88-8860dd47d11d",
   "metadata": {},
   "source": [
    "A race condition occurs when two threads access a shared variable at the same time. The first thread reads the variable, and the second thread reads the same value from the variable. Then the first thread and second thread perform their operations on the value, and they race to see which thread can write the value last to the shared variable. The value of the thread that writes its value last is preserved, because the thread is writing over the value that the previous thread wrote.\n",
    "\n",
    "A deadlock occurs when two threads each lock a different variable at the same time and then try to lock the variable that the other thread already locked. As a result, each thread stops executing and waits for the other thread to release the variable. Because each thread is holding the variable that the other thread wants, nothing occurs, and the threads remain deadlocked."
   ]
  }
 ],
 "metadata": {
  "kernelspec": {
   "display_name": "Python 3 (ipykernel)",
   "language": "python",
   "name": "python3"
  },
  "language_info": {
   "codemirror_mode": {
    "name": "ipython",
    "version": 3
   },
   "file_extension": ".py",
   "mimetype": "text/x-python",
   "name": "python",
   "nbconvert_exporter": "python",
   "pygments_lexer": "ipython3",
   "version": "3.10.8"
  }
 },
 "nbformat": 4,
 "nbformat_minor": 5
}
