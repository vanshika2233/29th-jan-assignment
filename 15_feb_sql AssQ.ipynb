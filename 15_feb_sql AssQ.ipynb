{
 "cells": [
  {
   "cell_type": "markdown",
   "id": "25bc3b15-6378-434f-9f50-864a53012580",
   "metadata": {},
   "source": [
    "Q1. What is a database? Differentiate between SQL and NoSQL databases."
   ]
  },
  {
   "cell_type": "markdown",
   "id": "4941539c-baf3-4870-9e8c-326215588132",
   "metadata": {},
   "source": [
    "ANS 1)\n",
    "A database is an organized collection of structured information, or data, typically stored electronically in a computer system. A database is usually controlled by a database management system (DBMS).\n",
    "\n",
    "THERE ARE SOME DIFFERENCES BETWEEN SQL AND NOSQL DATABASE:-\n",
    "\n",
    "1.Databases are categorized as Relational Database Management System (RDBMS).NoSQL databases are categorized as Non-relational or distributed database system.\n",
    "\n",
    "2.SQL databases have fixed or static or predefined schema.\tNoSQL databases have dynamic schema.\n",
    "\n",
    "3.SQL databases display data in form of tables so it is known as table-based database.\tNoSQL databases display data as collection of key-value pair, documents, graph databases or wide-column stores.\n",
    "\n",
    "4.SQL databases are vertically scalable.NoSQL databases are horizontally scalable.\n",
    "\n",
    "5.SQL databases use a powerful language \"Structured Query Language\" to define and manipulate the data.\tIn NoSQL databases, collection of documents are used to query the data. It is also called unstructured query language. It varies from database to database.\n",
    "\n",
    "6.SQL databases are best suited for complex queries.NoSQL databases are not so good for complex queries because these are not as powerful as SQL queries.\n",
    "\n",
    "7.SQL databases are not best suited for hierarchical data storage.NoSQL databases are best suited for hierarchical data storage.\n",
    "\n",
    "8.MySQL, Oracle, Sqlite, PostgreSQL and MS-SQL etc. are the example of SQL database.\t\n",
    "MongoDB, BigTable, Redis, RavenDB, Cassandra, Hbase, Neo4j, CouchDB etc. are the example of nosql database"
   ]
  },
  {
   "cell_type": "markdown",
   "id": "564aae6d-9826-4630-8795-df807ca2a740",
   "metadata": {},
   "source": [
    "Q2. What is DDL? Explain why CREATE, DROP, ALTER, and TRUNCATE are used with an example."
   ]
  },
  {
   "cell_type": "markdown",
   "id": "37e47ea6-9a50-4617-9083-da7a890be442",
   "metadata": {},
   "source": [
    "ANS 2)\n",
    "DDL is an abbreviation of Data Definition Language.\n",
    "\n",
    "The DDL Commands in Structured Query Language are used to create and modify the schema of the database and its objects. The syntax of DDL commands is predefined for describing the data. The commands of Data Definition Language deal with how the data should exist in the database.\n",
    "\n",
    "Following are the five DDL commands in SQL:\n",
    "\n",
    "1.CREATE Command :- CREATE is a DDL command used to create databases, tables, triggers and other database objects.\n",
    "Example:\n",
    "CREATE TABLE Student   \n",
    "(  \n",
    "Roll_No. Int ,    \n",
    "First_Name Varchar (20) ,    \n",
    "Last_Name Varchar (20) ,    \n",
    "Age Int ,  \n",
    "Marks Int ,   \n",
    ") ;    \n",
    "\n",
    "2.DROP Command :- It is used to delete/remove the database objects from the SQL database. We can easily remove the entire                   table, view, or index from the database using this DDL command.\n",
    "Example:\n",
    "DROP INDEX Index_Name;  \n",
    "\n",
    "3.ALTER Command :-ALTER is a DDL command which changes or modifies the existing structure of the database, and it also changes the schema of database objects.We can also add and drop constraints of the table using the ALTER command.\n",
    "Example:\n",
    "ALTER TABLE StudentDROP Age, Marks;  \n",
    "\n",
    "4.TRUNCATE Command :- TRUNCATE is another DDL command which deletes or removes all the records from the table.This command also removes the space allocated for storing the table records.\n",
    "Example:\n",
    "TRUNCATE TABLE Student;  "
   ]
  },
  {
   "cell_type": "markdown",
   "id": "971775eb-3247-48e2-9f0a-d093ad36f7dd",
   "metadata": {},
   "source": [
    "Q3. What is DML? Explain INSERT, UPDATE, and DELETE with an example."
   ]
  },
  {
   "cell_type": "markdown",
   "id": "2a52f13e-b76b-44f4-9f73-f4b3d19bf500",
   "metadata": {},
   "source": [
    "ANS 3)\n",
    "DML is an abbreviation of Data Manipulation Language.\n",
    "\n",
    "The DML commands in Structured Query Language change the data present in the SQL database. We can easily access, store, modify, update and delete the existing records from the database using DML commands.\n",
    "\n",
    "1.INSERT : It is most important data manipulation command in Structured Query Language, which allows users to insert data in database tables.\n",
    "eg.:\n",
    "INSERT INTO Student (Stu_id, Stu_Name, Stu_Marks, Stu_Age) VALUES (104, Anmol, 89, 19); \n",
    "\n",
    "2.UPDATE : UPDATE is another most important data manipulation command in Structured Query Language, which allows users to update or modify the existing data in database tables.\n",
    "Example :\n",
    "UPDATE Student SET Stu_Marks = 80, Stu_Age = 21 WHERE Stu_Id = 103 AND Stu_Id = 202;  \n",
    "\n",
    "3.DELETE : DELETE is a DML command which allows SQL users to remove single or multiple existing records from the database tables.\n",
    "Example :\n",
    "DELETE FROM Student WHERE Stu_Marks > 70 ;  "
   ]
  },
  {
   "cell_type": "markdown",
   "id": "0a1d0b48-fc70-4364-98b1-d44462cdfa8a",
   "metadata": {},
   "source": [
    "Q4. What is DQL? Explain SELECT with an example."
   ]
  },
  {
   "cell_type": "markdown",
   "id": "58c21b12-87dc-4972-b470-3bfa531322cf",
   "metadata": {},
   "source": [
    "ANS 4)\n",
    "Basically, SQL stands for Structured Query Language which is basically a language used by databases. This language allows to handle the information using tables and shows a language to query these tables and other objects related (views, functions, procedures, etc.). Most of the databases like SQL Server, Oracle, PostgreSQL, MySQL, MariaDB handle this language (with some extensions and variations) to handle the data.\n",
    "\n",
    "The SELECT statement is the most commonly used command in Structured Query Language. It is used to access the records from one or more database tables and views. It also retrieves the selected data that follow the conditions we want.\n",
    "\n",
    "By using this command, we can also access the particular record from the particular column of the table. The table which stores the record returned by the SELECT statement is called a result-set table.\n",
    "\n",
    "Example:\n",
    "CREATE TABLE Student_Records   \n",
    "(  \n",
    "Student_Id Int PRIMARY KEY,    \n",
    "First_Name VARCHAR (20),    \n",
    "Address VARCHAR (20),    \n",
    "Age Int NOT NULL,  \n",
    "Percentage Int NOT NULL,  \n",
    "Grade VARCHAR (10)   \n",
    ") ;  \n",
    "\n",
    "INSERT INTO Student VALUES (201, Akash, Delhi, 18, 89, A2),   \n",
    "(202, Bhavesh, Kanpur, 19, 93, A1),  \n",
    "(203, Yash, Delhi, 20, 89, A2),    \n",
    "(204, Bhavna, Delhi, 19, 78, B1),  \n",
    "(05, Yatin, Lucknow, 20, 75, B1),  \n",
    "(206, Ishika, Ghaziabad, 19, 51, C1),  \n",
    "(207, Vivek, Goa, 20, 62, B2);  \n",
    "\n",
    "SELECT * FROM Student_Records;  \n"
   ]
  },
  {
   "cell_type": "markdown",
   "id": "f34ab1f7-df24-4c7d-89d9-9a221e85a008",
   "metadata": {},
   "source": [
    "Q5. Explain Primary Key and Foreign Key."
   ]
  },
  {
   "cell_type": "markdown",
   "id": "e7adad91-ef4f-4b6a-84eb-59cf2b64bbc3",
   "metadata": {},
   "source": [
    "Primary Key:\n",
    "1.A primary key is used to ensure data in the specific column is unique.\t\n",
    "2.It uniquely identifies a record in the relational database table.\n",
    "3.Only one primary key is allowed in a table.It is a combination of UNIQUE and Not Null constraints.\n",
    "4.It does not allow NULL values.\n",
    "5.Its value cannot be deleted from the parent table.\n",
    "6.It constraint can be implicitly defined on the temporary tables\n",
    "\n",
    "Foreign Key:\n",
    "1.A foreign key is a column or group of columns in a relational database table that provides a link between data in two tables.\n",
    "2.It refers to the field in a table which is the primary key of another table.\n",
    "3.More than one foreign key are allowed in a table.\n",
    "4.It can contain duplicate values and a table in a relational database.\n",
    "5.It can also contain NULL values.\n",
    "6.Its value can be deleted from the child table.\n",
    "7.It constraint cannot be defined on the local or global temporary tables."
   ]
  },
  {
   "cell_type": "markdown",
   "id": "ba1cc02a-fb22-4bd9-94ff-63265e8a0299",
   "metadata": {},
   "source": [
    "Q6. Write a python code to connect MySQL to python. Explain the cursor() and execute() method."
   ]
  },
  {
   "cell_type": "markdown",
   "id": "90d9b335-5a5a-4424-b2de-2372d0428f5b",
   "metadata": {},
   "source": [
    "import mysql.connector\n",
    "\n",
    "mydb = mysql.connector.connect(\n",
    "\n",
    "host=\"localhost\",\n",
    "\n",
    "user=\"abc\",\n",
    "\n",
    "password=\"password\"\n",
    ") mycursor = mydb.cursor()\n",
    "\n",
    "mycursor.execute(\"select * from company.employee;\")\n",
    "\n",
    "for i in mycursor.fetchall():\n",
    "\n",
    "print(i)\n",
    "\n",
    "mydb.close()\n",
    "\n",
    "cursor() : The MySQLCursor of mysql-connector-python (and similar libraries) is used to execute statements to communicate with the MySQL database. Using the methods of it you can execute SQL statements, fetch data from the result sets, call procedures.\n",
    "\n",
    "execute() : The EXECUTE statement/command is used to execute the prepared statement."
   ]
  },
  {
   "cell_type": "markdown",
   "id": "b990f973-0e80-4ca1-a7cb-92dd2708e65f",
   "metadata": {},
   "source": [
    "Q7. Give the order of execution of SQL clauses in an SQL query."
   ]
  },
  {
   "cell_type": "markdown",
   "id": "b0665596-4083-4e40-b2d1-6499b119f505",
   "metadata": {},
   "source": [
    "ANS 7)\n",
    "The order in which the clauses in queries are executed is as follows:\n",
    "\n",
    "1. FROM/JOIN: The FROM and/or JOIN clauses are executed first to determine the data of interest.\n",
    "\n",
    "2. WHERE: The WHERE clause is executed to filter out records that do not meet the constraints.\n",
    "\n",
    "3. GROUP BY: The GROUP BY clause is executed to group the data based on the values in one or more columns.\n",
    "\n",
    "4. HAVING: The HAVING clause is executed to remove the created grouped records that don’t meet the constraints.\n",
    "\n",
    "5. SELECT: The SELECT clause is executed to derive all desired columns and expressions.\n",
    "\n",
    "6. ORDER BY: The ORDER BY clause is executed to sort the derived values in ascending or descending order.\n",
    "\n",
    "7. LIMIT/OFFSET: Finally, the LIMIT and/or OFFSET clauses are executed to keep or skip a specified number of rows.\n",
    "\n"
   ]
  },
  {
   "cell_type": "code",
   "execution_count": null,
   "id": "9eb62b02-5c15-4b69-9b21-640e7e90b83c",
   "metadata": {},
   "outputs": [],
   "source": [
    "SELECT O.name, (P.price * O.quantity) AS total_spent FROM Orders O JOIN Products P ON O.product_id = P.id WHERE P.price * O.quantity < 50 ORDER BY total_spent DES"
   ]
  }
 ],
 "metadata": {
  "kernelspec": {
   "display_name": "Python 3 (ipykernel)",
   "language": "python",
   "name": "python3"
  },
  "language_info": {
   "codemirror_mode": {
    "name": "ipython",
    "version": 3
   },
   "file_extension": ".py",
   "mimetype": "text/x-python",
   "name": "python",
   "nbconvert_exporter": "python",
   "pygments_lexer": "ipython3",
   "version": "3.10.8"
  }
 },
 "nbformat": 4,
 "nbformat_minor": 5
}
