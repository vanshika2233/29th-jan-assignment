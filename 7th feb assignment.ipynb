{
 "cells": [
  {
   "cell_type": "markdown",
   "id": "21a26959-9d8f-4d52-a7fa-61a19abb4b16",
   "metadata": {},
   "source": [
    "Q1. You are writing code for a company. The requirement of the company is that you create a python\n",
    "function that will check whether the password entered by the user is correct or not. The function should\n",
    "take the password as input and return the string “Valid Password” if the entered password follows the\n",
    "below-given password guidelines else it should return “Invalid Password”.\n",
    "Note: 1. The Password should contain at least two uppercase letters and at least two lowercase letters.\n",
    "2. The Password should contain at least a number and three special characters.\n",
    "3. The length of the password should be 10 characters long."
   ]
  },
  {
   "cell_type": "code",
   "execution_count": 1,
   "id": "762b0969-8276-46e2-bca0-3268f33aaf4a",
   "metadata": {},
   "outputs": [
    {
     "name": "stdin",
     "output_type": "stream",
     "text": [
      "Enter your password #Binni$Jain@23\n"
     ]
    },
    {
     "name": "stdout",
     "output_type": "stream",
     "text": [
      "Valid Password\n"
     ]
    }
   ],
   "source": [
    "# ANS 1\n",
    "class Company :\n",
    "    def __init__(self,password):\n",
    "        self.pas = password\n",
    "    \n",
    "    def check_password(self):\n",
    "        flag = 0\n",
    "        if len(self.pas)>=10:\n",
    "            flag+=1\n",
    "            \n",
    "        #check if atleast two upper case letter\n",
    "        if len([i for i in self.pas if i.isupper()== True]) >= 2:\n",
    "            flag +=1\n",
    "            \n",
    "            \n",
    "        #check if atleast two lower case letter\n",
    "        if len([i for i in self.pas if i.islower()== True]) >= 2:\n",
    "            flag+=1\n",
    "            \n",
    "            \n",
    "            \n",
    "        #check if three special case charactor\n",
    "        if len([i for i in self.pas if i.isalnum() == False])>=3:\n",
    "            flag+=1\n",
    "            \n",
    "            \n",
    "            \n",
    "        #check if atleast 1 digit is present\n",
    "        if sum([i.isdigit() for i in self.pas]) >=1:\n",
    "            flag+=1\n",
    "            \n",
    "            \n",
    "            \n",
    "        if flag == 5:\n",
    "            print(\"Valid Password\")\n",
    "        else:\n",
    "            print(\"Invaid Password\")\n",
    "            \n",
    "            \n",
    "password = input(\"Enter your password\")\n",
    "p = Company(password)\n",
    "p.check_password()"
   ]
  },
  {
   "cell_type": "markdown",
   "id": "a9f0d649-ac5d-4c89-ad7d-0aa1993b3cf7",
   "metadata": {},
   "source": [
    "Q2. Solve the below-given questions using at least one of the following:\n",
    "1. Lambda function\n",
    "2. Filter function\n",
    "3. Zap function\n",
    "4. List Comprehension\n",
    "B Check if the string starts with a particular letter\n",
    "B Check if the string is numericY\n",
    "B Sort a list of tuples having fruit names and their quantity. [(\"mango\",99),(\"orange\",80), (\"grapes\", 1000)-\n",
    "B Find the squares of numbers from 1 to 10Y\n",
    "B Find the cube root of numbers from 1 to 10Y\n",
    "B Check if a given number is evenY\n",
    "B Filter odd numbers from the given list.\n",
    "[1,2,3,4,5,6,7,8,9,10-\n",
    "B Sort a list of integers into positive and negative integers lists.\n",
    "[1,2,3,4,5,6,-1,-2,-3,-4,-5,0]\n"
   ]
  },
  {
   "cell_type": "code",
   "execution_count": 6,
   "id": "b2727a17-a468-4fb3-91f8-759a9499a0e0",
   "metadata": {},
   "outputs": [
    {
     "name": "stdin",
     "output_type": "stream",
     "text": [
      "Enter the string 45\n"
     ]
    }
   ],
   "source": [
    "string = input(\"Enter the string\")"
   ]
  },
  {
   "cell_type": "code",
   "execution_count": 3,
   "id": "4592a3f5-e59e-4238-9de3-9a7e9f1b20ce",
   "metadata": {},
   "outputs": [
    {
     "data": {
      "text/plain": [
       "True"
      ]
     },
     "execution_count": 3,
     "metadata": {},
     "output_type": "execute_result"
    }
   ],
   "source": [
    " # Check if the string is numeric\n",
    "string.isnumeric()"
   ]
  },
  {
   "cell_type": "code",
   "execution_count": 5,
   "id": "b29b3218-ff64-4a76-9f47-3754a4da2bc9",
   "metadata": {},
   "outputs": [
    {
     "data": {
      "text/plain": [
       "True"
      ]
     },
     "execution_count": 5,
     "metadata": {},
     "output_type": "execute_result"
    }
   ],
   "source": [
    " # Check if the string starts with a particular letter\n",
    "string[0].isalpha()"
   ]
  },
  {
   "cell_type": "code",
   "execution_count": 7,
   "id": "759f7646-8d77-45dd-9be6-e2d9ebcfe6c5",
   "metadata": {},
   "outputs": [
    {
     "data": {
      "text/plain": [
       "True"
      ]
     },
     "execution_count": 7,
     "metadata": {},
     "output_type": "execute_result"
    }
   ],
   "source": [
    "# Check if the string is numeric\n",
    "string.isnumeric()"
   ]
  },
  {
   "cell_type": "code",
   "execution_count": 8,
   "id": "5d64ce03-353c-44a8-832a-ba97040395dd",
   "metadata": {},
   "outputs": [
    {
     "data": {
      "text/plain": [
       "[('grapes', 1000), ('mango', 99), ('orange', 80)]"
      ]
     },
     "execution_count": 8,
     "metadata": {},
     "output_type": "execute_result"
    }
   ],
   "source": [
    "# Sort a list of tuples having fruit names and their quantity. [(\"mango\",99),(\"orange\",80), (\"grapes\", 1000)]\n",
    "x = [(\"mango\",99),(\"orange\",80), (\"grapes\", 1000)]\n",
    "\n",
    "sorted(x)"
   ]
  },
  {
   "cell_type": "code",
   "execution_count": 9,
   "id": "4ac00d57-863f-41ac-8f3a-193d7de487c9",
   "metadata": {},
   "outputs": [
    {
     "data": {
      "text/plain": [
       "([1, 4, 9, 16, 25, 36, 49, 64, 81], [1, 8, 27, 64, 125, 216, 343, 512, 729])"
      ]
     },
     "execution_count": 9,
     "metadata": {},
     "output_type": "execute_result"
    }
   ],
   "source": [
    "# Find the squares of numbers from 1 to 10 \n",
    "# Find the cube root of numbers from 1 to 10\n",
    "squares = [i**2 for i in range(1,10)]\n",
    "cube = [i**3 for i in range(1,10)]\n",
    "squares,cube"
   ]
  },
  {
   "cell_type": "code",
   "execution_count": 13,
   "id": "35f775fb-ef64-4361-b6c3-d586c5da6675",
   "metadata": {},
   "outputs": [
    {
     "name": "stdin",
     "output_type": "stream",
     "text": [
      "Enter the string of number to check even odd  122334455678999\n"
     ]
    },
    {
     "name": "stdout",
     "output_type": "stream",
     "text": [
      "even ['2', '2', '4', '4', '6', '8']\n",
      "odd ['1', '3', '3', '5', '5', '7', '9', '9', '9']\n"
     ]
    }
   ],
   "source": [
    "num = input(\"Enter the string of number to check even odd \")\n",
    "a = list(filter(lambda x: int(x)%2 == 0,num))\n",
    "b = list(filter(lambda x : int(x) %2 != 0,num))\n",
    "print('even', a)\n",
    "print ('odd' ,b)"
   ]
  },
  {
   "cell_type": "code",
   "execution_count": 15,
   "id": "71a49537-ba95-46cf-94cb-25f774841109",
   "metadata": {},
   "outputs": [
    {
     "data": {
      "text/plain": [
       "[1, 3, 5, 7, 9]"
      ]
     },
     "execution_count": 15,
     "metadata": {},
     "output_type": "execute_result"
    }
   ],
   "source": [
    "# Filter odd numbers from the given list.[1,2,3,4,5,6,7,8,9,10]\n",
    "list(filter(lambda x : int (x)%2 !=0,[1,2,3,4,5,6,7,8,9,10]))\n"
   ]
  },
  {
   "cell_type": "code",
   "execution_count": 10,
   "id": "ee100ea4-6fd6-4558-ba01-96977a06a595",
   "metadata": {},
   "outputs": [],
   "source": [
    "# Sort a list of integers into positive and negative integers lists. [1,2,3,4,5,6,-1,-2,-3,-4,-5,0]\n",
    "negative = list(filter(lambda x : x<0 , [1,2,3,4,5,6,-1,-2,-3,-4,-5,0]))\n",
    "negative.sort()"
   ]
  },
  {
   "cell_type": "code",
   "execution_count": 13,
   "id": "7996a4f0-2621-4007-b985-2ac76c0c0e61",
   "metadata": {},
   "outputs": [
    {
     "data": {
      "text/plain": [
       "[-5, -4, -3, -2, -1]"
      ]
     },
     "execution_count": 13,
     "metadata": {},
     "output_type": "execute_result"
    }
   ],
   "source": [
    "negative"
   ]
  },
  {
   "cell_type": "code",
   "execution_count": 14,
   "id": "0532530a-8e41-4d11-afd1-5c60a3615103",
   "metadata": {},
   "outputs": [
    {
     "data": {
      "text/plain": [
       "[0, 1, 2, 3, 4, 5, 6]"
      ]
     },
     "execution_count": 14,
     "metadata": {},
     "output_type": "execute_result"
    }
   ],
   "source": [
    "positive = list(filter(lambda x : x>=0,[1,2,3,4,5,6,-1,-2,-3,-4,-5,0]))\n",
    "positive.sort()\n",
    "positive"
   ]
  }
 ],
 "metadata": {
  "kernelspec": {
   "display_name": "Python 3 (ipykernel)",
   "language": "python",
   "name": "python3"
  },
  "language_info": {
   "codemirror_mode": {
    "name": "ipython",
    "version": 3
   },
   "file_extension": ".py",
   "mimetype": "text/x-python",
   "name": "python",
   "nbconvert_exporter": "python",
   "pygments_lexer": "ipython3",
   "version": "3.10.8"
  }
 },
 "nbformat": 4,
 "nbformat_minor": 5
}
